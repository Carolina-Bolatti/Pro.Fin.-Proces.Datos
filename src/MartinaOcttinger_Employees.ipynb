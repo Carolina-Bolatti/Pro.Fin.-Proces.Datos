{
 "cells": [
  {
   "attachments": {},
   "cell_type": "markdown",
   "metadata": {},
   "source": [
    "### Dataset: Employee Future Prediction\n",
    "[Dataset en Kaggle](https://www.kaggle.com/datasets/tejashvi14/employee-future-prediction)"
   ]
  },
  {
   "cell_type": "code",
   "execution_count": 1,
   "metadata": {},
   "outputs": [],
   "source": [
    "# importaciones\n",
    "import numpy as np\n",
    "import pandas as pd\n",
    "import seaborn as sns\n",
    "import matplotlib.pyplot as plt"
   ]
  },
  {
   "cell_type": "code",
   "execution_count": 2,
   "metadata": {},
   "outputs": [
    {
     "data": {
      "text/plain": [
       "(4653, 9)"
      ]
     },
     "execution_count": 2,
     "metadata": {},
     "output_type": "execute_result"
    }
   ],
   "source": [
    "# leyendo el dataset\n",
    "empleados = pd.read_csv('../data/Employee.csv')\n",
    "\n",
    "# chequeando que estén todos los datos\n",
    "empleados.shape"
   ]
  },
  {
   "cell_type": "code",
   "execution_count": 3,
   "metadata": {},
   "outputs": [
    {
     "data": {
      "text/plain": [
       "1889"
      ]
     },
     "execution_count": 3,
     "metadata": {},
     "output_type": "execute_result"
    }
   ],
   "source": [
    "# Chequeando por duplicados\n",
    "duplicados = empleados.duplicated().sum()\n",
    "duplicados"
   ]
  },
  {
   "cell_type": "code",
   "execution_count": 4,
   "metadata": {},
   "outputs": [
    {
     "data": {
      "text/plain": [
       "(2764, 9)"
      ]
     },
     "execution_count": 4,
     "metadata": {},
     "output_type": "execute_result"
    }
   ],
   "source": [
    "# Eliminando duplicados\n",
    "empleados = empleados.drop_duplicates()\n",
    "empleados.shape"
   ]
  },
  {
   "attachments": {},
   "cell_type": "markdown",
   "metadata": {},
   "source": [
    "# 010 - Relación entre educación (Education) y categoría de pago (PaymentTier)\n",
    "> Con este análisis, buscamos investigar si hay alguna relación entre el tipo de educación de un empleado con la categoría de pago en la que se encuentra.\n",
    ">\n",
    "> **Hipótesis**: Mayor educación → Categoría de pago más alta.\n",
    "\n",
    "\n",
    "<table align='center'>\n",
    "<tr>\n",
    "<th> Educación </th>\n",
    "<th> Categoría de pago </th>\n",
    "</tr>\n",
    "<tr>\n",
    "<td>\n",
    "\n",
    "- PhD = 1\n",
    "- Masters = 2\n",
    "- Bachelors = 3\n",
    "\n",
    "PhD > Masters > Bachelors\n",
    "\n",
    "\n",
    "</td>\n",
    "<td>\n",
    "\n",
    "- 1 (Categoría más alta)\n",
    "- 2 \n",
    "- 3 (Categoría más baja)\n",
    "\n",
    "</td>\n",
    "</tr>\n",
    "</table>\n",
    "\n",
    "\n",
    "\n",
    "\n",
    " \n"
   ]
  },
  {
   "attachments": {},
   "cell_type": "markdown",
   "metadata": {},
   "source": [
    "### Exploración inicial"
   ]
  },
  {
   "cell_type": "code",
   "execution_count": 186,
   "metadata": {},
   "outputs": [
    {
     "data": {
      "text/html": [
       "<div>\n",
       "<style scoped>\n",
       "    .dataframe tbody tr th:only-of-type {\n",
       "        vertical-align: middle;\n",
       "    }\n",
       "\n",
       "    .dataframe tbody tr th {\n",
       "        vertical-align: top;\n",
       "    }\n",
       "\n",
       "    .dataframe thead th {\n",
       "        text-align: right;\n",
       "    }\n",
       "</style>\n",
       "<table border=\"1\" class=\"dataframe\">\n",
       "  <thead>\n",
       "    <tr style=\"text-align: right;\">\n",
       "      <th></th>\n",
       "      <th>Education</th>\n",
       "      <th>JoiningYear</th>\n",
       "      <th>City</th>\n",
       "      <th>PaymentTier</th>\n",
       "      <th>Age</th>\n",
       "      <th>Gender</th>\n",
       "      <th>EverBenched</th>\n",
       "      <th>ExperienceInCurrentDomain</th>\n",
       "      <th>LeaveOrNot</th>\n",
       "    </tr>\n",
       "  </thead>\n",
       "  <tbody>\n",
       "    <tr>\n",
       "      <th>2214</th>\n",
       "      <td>Bachelors</td>\n",
       "      <td>2012</td>\n",
       "      <td>Bangalore</td>\n",
       "      <td>3</td>\n",
       "      <td>30</td>\n",
       "      <td>Female</td>\n",
       "      <td>No</td>\n",
       "      <td>1</td>\n",
       "      <td>1</td>\n",
       "    </tr>\n",
       "    <tr>\n",
       "      <th>4373</th>\n",
       "      <td>Bachelors</td>\n",
       "      <td>2013</td>\n",
       "      <td>Bangalore</td>\n",
       "      <td>3</td>\n",
       "      <td>30</td>\n",
       "      <td>Female</td>\n",
       "      <td>No</td>\n",
       "      <td>4</td>\n",
       "      <td>0</td>\n",
       "    </tr>\n",
       "    <tr>\n",
       "      <th>1783</th>\n",
       "      <td>Bachelors</td>\n",
       "      <td>2013</td>\n",
       "      <td>Pune</td>\n",
       "      <td>3</td>\n",
       "      <td>28</td>\n",
       "      <td>Male</td>\n",
       "      <td>No</td>\n",
       "      <td>0</td>\n",
       "      <td>0</td>\n",
       "    </tr>\n",
       "    <tr>\n",
       "      <th>2163</th>\n",
       "      <td>Bachelors</td>\n",
       "      <td>2014</td>\n",
       "      <td>Bangalore</td>\n",
       "      <td>3</td>\n",
       "      <td>27</td>\n",
       "      <td>Male</td>\n",
       "      <td>No</td>\n",
       "      <td>5</td>\n",
       "      <td>1</td>\n",
       "    </tr>\n",
       "    <tr>\n",
       "      <th>4353</th>\n",
       "      <td>Bachelors</td>\n",
       "      <td>2014</td>\n",
       "      <td>Bangalore</td>\n",
       "      <td>3</td>\n",
       "      <td>27</td>\n",
       "      <td>Male</td>\n",
       "      <td>No</td>\n",
       "      <td>5</td>\n",
       "      <td>0</td>\n",
       "    </tr>\n",
       "    <tr>\n",
       "      <th>1093</th>\n",
       "      <td>Masters</td>\n",
       "      <td>2017</td>\n",
       "      <td>Bangalore</td>\n",
       "      <td>3</td>\n",
       "      <td>26</td>\n",
       "      <td>Female</td>\n",
       "      <td>No</td>\n",
       "      <td>4</td>\n",
       "      <td>0</td>\n",
       "    </tr>\n",
       "    <tr>\n",
       "      <th>3222</th>\n",
       "      <td>Bachelors</td>\n",
       "      <td>2013</td>\n",
       "      <td>Bangalore</td>\n",
       "      <td>3</td>\n",
       "      <td>33</td>\n",
       "      <td>Male</td>\n",
       "      <td>No</td>\n",
       "      <td>3</td>\n",
       "      <td>0</td>\n",
       "    </tr>\n",
       "    <tr>\n",
       "      <th>2013</th>\n",
       "      <td>Masters</td>\n",
       "      <td>2015</td>\n",
       "      <td>New Delhi</td>\n",
       "      <td>3</td>\n",
       "      <td>28</td>\n",
       "      <td>Female</td>\n",
       "      <td>No</td>\n",
       "      <td>2</td>\n",
       "      <td>0</td>\n",
       "    </tr>\n",
       "    <tr>\n",
       "      <th>367</th>\n",
       "      <td>Masters</td>\n",
       "      <td>2015</td>\n",
       "      <td>Pune</td>\n",
       "      <td>2</td>\n",
       "      <td>25</td>\n",
       "      <td>Female</td>\n",
       "      <td>No</td>\n",
       "      <td>3</td>\n",
       "      <td>1</td>\n",
       "    </tr>\n",
       "    <tr>\n",
       "      <th>973</th>\n",
       "      <td>Bachelors</td>\n",
       "      <td>2013</td>\n",
       "      <td>Pune</td>\n",
       "      <td>2</td>\n",
       "      <td>24</td>\n",
       "      <td>Female</td>\n",
       "      <td>No</td>\n",
       "      <td>2</td>\n",
       "      <td>1</td>\n",
       "    </tr>\n",
       "  </tbody>\n",
       "</table>\n",
       "</div>"
      ],
      "text/plain": [
       "      Education  JoiningYear       City  PaymentTier  Age  Gender EverBenched  \\\n",
       "2214  Bachelors         2012  Bangalore            3   30  Female          No   \n",
       "4373  Bachelors         2013  Bangalore            3   30  Female          No   \n",
       "1783  Bachelors         2013       Pune            3   28    Male          No   \n",
       "2163  Bachelors         2014  Bangalore            3   27    Male          No   \n",
       "4353  Bachelors         2014  Bangalore            3   27    Male          No   \n",
       "1093    Masters         2017  Bangalore            3   26  Female          No   \n",
       "3222  Bachelors         2013  Bangalore            3   33    Male          No   \n",
       "2013    Masters         2015  New Delhi            3   28  Female          No   \n",
       "367     Masters         2015       Pune            2   25  Female          No   \n",
       "973   Bachelors         2013       Pune            2   24  Female          No   \n",
       "\n",
       "      ExperienceInCurrentDomain  LeaveOrNot  \n",
       "2214                          1           1  \n",
       "4373                          4           0  \n",
       "1783                          0           0  \n",
       "2163                          5           1  \n",
       "4353                          5           0  \n",
       "1093                          4           0  \n",
       "3222                          3           0  \n",
       "2013                          2           0  \n",
       "367                           3           1  \n",
       "973                           2           1  "
      ]
     },
     "execution_count": 186,
     "metadata": {},
     "output_type": "execute_result"
    }
   ],
   "source": [
    "# Muestra del dataset\n",
    "empleados.sample(10)"
   ]
  },
  {
   "cell_type": "code",
   "execution_count": 8,
   "metadata": {},
   "outputs": [
    {
     "data": {
      "text/plain": [
       "array(['Bachelors', 'Masters', 'PHD'], dtype=object)"
      ]
     },
     "execution_count": 8,
     "metadata": {},
     "output_type": "execute_result"
    }
   ],
   "source": [
    "# Tipos de Educación\n",
    "empleados['Education'].unique()"
   ]
  },
  {
   "cell_type": "code",
   "execution_count": 9,
   "metadata": {},
   "outputs": [
    {
     "data": {
      "text/plain": [
       "array([3, 1, 2], dtype=int64)"
      ]
     },
     "execution_count": 9,
     "metadata": {},
     "output_type": "execute_result"
    }
   ],
   "source": [
    "# Tipos de categoría de pago\n",
    "empleados['PaymentTier'].unique()"
   ]
  },
  {
   "cell_type": "code",
   "execution_count": 7,
   "metadata": {},
   "outputs": [
    {
     "data": {
      "text/html": [
       "<div>\n",
       "<style scoped>\n",
       "    .dataframe tbody tr th:only-of-type {\n",
       "        vertical-align: middle;\n",
       "    }\n",
       "\n",
       "    .dataframe tbody tr th {\n",
       "        vertical-align: top;\n",
       "    }\n",
       "\n",
       "    .dataframe thead th {\n",
       "        text-align: right;\n",
       "    }\n",
       "</style>\n",
       "<table border=\"1\" class=\"dataframe\">\n",
       "  <thead>\n",
       "    <tr style=\"text-align: right;\">\n",
       "      <th></th>\n",
       "      <th>Education</th>\n",
       "      <th>JoiningYear</th>\n",
       "      <th>City</th>\n",
       "      <th>PaymentTier</th>\n",
       "      <th>Age</th>\n",
       "      <th>Gender</th>\n",
       "      <th>EverBenched</th>\n",
       "      <th>ExperienceInCurrentDomain</th>\n",
       "      <th>LeaveOrNot</th>\n",
       "      <th>EduNum</th>\n",
       "    </tr>\n",
       "  </thead>\n",
       "  <tbody>\n",
       "    <tr>\n",
       "      <th>0</th>\n",
       "      <td>Bachelors</td>\n",
       "      <td>2017</td>\n",
       "      <td>Bangalore</td>\n",
       "      <td>3</td>\n",
       "      <td>34</td>\n",
       "      <td>Male</td>\n",
       "      <td>No</td>\n",
       "      <td>0</td>\n",
       "      <td>0</td>\n",
       "      <td>3</td>\n",
       "    </tr>\n",
       "    <tr>\n",
       "      <th>1</th>\n",
       "      <td>Bachelors</td>\n",
       "      <td>2013</td>\n",
       "      <td>Pune</td>\n",
       "      <td>1</td>\n",
       "      <td>28</td>\n",
       "      <td>Female</td>\n",
       "      <td>No</td>\n",
       "      <td>3</td>\n",
       "      <td>1</td>\n",
       "      <td>3</td>\n",
       "    </tr>\n",
       "    <tr>\n",
       "      <th>2</th>\n",
       "      <td>Bachelors</td>\n",
       "      <td>2014</td>\n",
       "      <td>New Delhi</td>\n",
       "      <td>3</td>\n",
       "      <td>38</td>\n",
       "      <td>Female</td>\n",
       "      <td>No</td>\n",
       "      <td>2</td>\n",
       "      <td>0</td>\n",
       "      <td>3</td>\n",
       "    </tr>\n",
       "    <tr>\n",
       "      <th>3</th>\n",
       "      <td>Masters</td>\n",
       "      <td>2016</td>\n",
       "      <td>Bangalore</td>\n",
       "      <td>3</td>\n",
       "      <td>27</td>\n",
       "      <td>Male</td>\n",
       "      <td>No</td>\n",
       "      <td>5</td>\n",
       "      <td>1</td>\n",
       "      <td>2</td>\n",
       "    </tr>\n",
       "    <tr>\n",
       "      <th>4</th>\n",
       "      <td>Masters</td>\n",
       "      <td>2017</td>\n",
       "      <td>Pune</td>\n",
       "      <td>3</td>\n",
       "      <td>24</td>\n",
       "      <td>Male</td>\n",
       "      <td>Yes</td>\n",
       "      <td>2</td>\n",
       "      <td>1</td>\n",
       "      <td>2</td>\n",
       "    </tr>\n",
       "    <tr>\n",
       "      <th>...</th>\n",
       "      <td>...</td>\n",
       "      <td>...</td>\n",
       "      <td>...</td>\n",
       "      <td>...</td>\n",
       "      <td>...</td>\n",
       "      <td>...</td>\n",
       "      <td>...</td>\n",
       "      <td>...</td>\n",
       "      <td>...</td>\n",
       "      <td>...</td>\n",
       "    </tr>\n",
       "    <tr>\n",
       "      <th>4645</th>\n",
       "      <td>Masters</td>\n",
       "      <td>2017</td>\n",
       "      <td>Pune</td>\n",
       "      <td>2</td>\n",
       "      <td>31</td>\n",
       "      <td>Female</td>\n",
       "      <td>No</td>\n",
       "      <td>2</td>\n",
       "      <td>0</td>\n",
       "      <td>2</td>\n",
       "    </tr>\n",
       "    <tr>\n",
       "      <th>4647</th>\n",
       "      <td>Bachelors</td>\n",
       "      <td>2016</td>\n",
       "      <td>Pune</td>\n",
       "      <td>3</td>\n",
       "      <td>30</td>\n",
       "      <td>Male</td>\n",
       "      <td>No</td>\n",
       "      <td>2</td>\n",
       "      <td>0</td>\n",
       "      <td>3</td>\n",
       "    </tr>\n",
       "    <tr>\n",
       "      <th>4649</th>\n",
       "      <td>Masters</td>\n",
       "      <td>2013</td>\n",
       "      <td>Pune</td>\n",
       "      <td>2</td>\n",
       "      <td>37</td>\n",
       "      <td>Male</td>\n",
       "      <td>No</td>\n",
       "      <td>2</td>\n",
       "      <td>1</td>\n",
       "      <td>2</td>\n",
       "    </tr>\n",
       "    <tr>\n",
       "      <th>4650</th>\n",
       "      <td>Masters</td>\n",
       "      <td>2018</td>\n",
       "      <td>New Delhi</td>\n",
       "      <td>3</td>\n",
       "      <td>27</td>\n",
       "      <td>Male</td>\n",
       "      <td>No</td>\n",
       "      <td>5</td>\n",
       "      <td>1</td>\n",
       "      <td>2</td>\n",
       "    </tr>\n",
       "    <tr>\n",
       "      <th>4651</th>\n",
       "      <td>Bachelors</td>\n",
       "      <td>2012</td>\n",
       "      <td>Bangalore</td>\n",
       "      <td>3</td>\n",
       "      <td>30</td>\n",
       "      <td>Male</td>\n",
       "      <td>Yes</td>\n",
       "      <td>2</td>\n",
       "      <td>0</td>\n",
       "      <td>3</td>\n",
       "    </tr>\n",
       "  </tbody>\n",
       "</table>\n",
       "<p>2764 rows × 10 columns</p>\n",
       "</div>"
      ],
      "text/plain": [
       "      Education  JoiningYear       City  PaymentTier  Age  Gender EverBenched  \\\n",
       "0     Bachelors         2017  Bangalore            3   34    Male          No   \n",
       "1     Bachelors         2013       Pune            1   28  Female          No   \n",
       "2     Bachelors         2014  New Delhi            3   38  Female          No   \n",
       "3       Masters         2016  Bangalore            3   27    Male          No   \n",
       "4       Masters         2017       Pune            3   24    Male         Yes   \n",
       "...         ...          ...        ...          ...  ...     ...         ...   \n",
       "4645    Masters         2017       Pune            2   31  Female          No   \n",
       "4647  Bachelors         2016       Pune            3   30    Male          No   \n",
       "4649    Masters         2013       Pune            2   37    Male          No   \n",
       "4650    Masters         2018  New Delhi            3   27    Male          No   \n",
       "4651  Bachelors         2012  Bangalore            3   30    Male         Yes   \n",
       "\n",
       "      ExperienceInCurrentDomain  LeaveOrNot  EduNum  \n",
       "0                             0           0       3  \n",
       "1                             3           1       3  \n",
       "2                             2           0       3  \n",
       "3                             5           1       2  \n",
       "4                             2           1       2  \n",
       "...                         ...         ...     ...  \n",
       "4645                          2           0       2  \n",
       "4647                          2           0       3  \n",
       "4649                          2           1       2  \n",
       "4650                          5           1       2  \n",
       "4651                          2           0       3  \n",
       "\n",
       "[2764 rows x 10 columns]"
      ]
     },
     "execution_count": 7,
     "metadata": {},
     "output_type": "execute_result"
    }
   ],
   "source": [
    "# Cambiamos los tipos de educación por números para poder aplicar la función de correlación\n",
    "# Los nuevos datos se agregan en una columna llamada EduNum\n",
    "\n",
    "edu_num = {'Bachelors':3,\n",
    "            'Masters':2,\n",
    "            'PHD': 1}\n",
    "\n",
    "empleados.loc[:,'EduNum'] = empleados['Education'].map(edu_num) \n",
    "empleados"
   ]
  },
  {
   "attachments": {},
   "cell_type": "markdown",
   "metadata": {},
   "source": [
    "### Análisis de correlación"
   ]
  },
  {
   "cell_type": "code",
   "execution_count": 13,
   "metadata": {},
   "outputs": [
    {
     "data": {
      "text/html": [
       "<style type=\"text/css\">\n",
       "#T_209b2_row0_col5, #T_209b2_row1_col5, #T_209b2_row2_col5, #T_209b2_row3_col5, #T_209b2_row4_col5, #T_209b2_row5_col5 {\n",
       "  background: mediumslateblue;\n",
       "}\n",
       "</style>\n",
       "<table id=\"T_209b2\">\n",
       "  <thead>\n",
       "    <tr>\n",
       "      <th class=\"blank level0\" >&nbsp;</th>\n",
       "      <th id=\"T_209b2_level0_col0\" class=\"col_heading level0 col0\" >JoiningYear</th>\n",
       "      <th id=\"T_209b2_level0_col1\" class=\"col_heading level0 col1\" >PaymentTier</th>\n",
       "      <th id=\"T_209b2_level0_col2\" class=\"col_heading level0 col2\" >Age</th>\n",
       "      <th id=\"T_209b2_level0_col3\" class=\"col_heading level0 col3\" >ExperienceInCurrentDomain</th>\n",
       "      <th id=\"T_209b2_level0_col4\" class=\"col_heading level0 col4\" >LeaveOrNot</th>\n",
       "      <th id=\"T_209b2_level0_col5\" class=\"col_heading level0 col5\" >EduNum</th>\n",
       "    </tr>\n",
       "  </thead>\n",
       "  <tbody>\n",
       "    <tr>\n",
       "      <th id=\"T_209b2_level0_row0\" class=\"row_heading level0 row0\" >JoiningYear</th>\n",
       "      <td id=\"T_209b2_row0_col0\" class=\"data row0 col0\" >1.000000</td>\n",
       "      <td id=\"T_209b2_row0_col1\" class=\"data row0 col1\" >-0.053823</td>\n",
       "      <td id=\"T_209b2_row0_col2\" class=\"data row0 col2\" >0.024445</td>\n",
       "      <td id=\"T_209b2_row0_col3\" class=\"data row0 col3\" >-0.031228</td>\n",
       "      <td id=\"T_209b2_row0_col4\" class=\"data row0 col4\" >0.150650</td>\n",
       "      <td id=\"T_209b2_row0_col5\" class=\"data row0 col5\" >-0.113858</td>\n",
       "    </tr>\n",
       "    <tr>\n",
       "      <th id=\"T_209b2_level0_row1\" class=\"row_heading level0 row1\" >PaymentTier</th>\n",
       "      <td id=\"T_209b2_row1_col0\" class=\"data row1 col0\" >-0.053823</td>\n",
       "      <td id=\"T_209b2_row1_col1\" class=\"data row1 col1\" >1.000000</td>\n",
       "      <td id=\"T_209b2_row1_col2\" class=\"data row1 col2\" >0.067514</td>\n",
       "      <td id=\"T_209b2_row1_col3\" class=\"data row1 col3\" >-0.004602</td>\n",
       "      <td id=\"T_209b2_row1_col4\" class=\"data row1 col4\" >-0.119891</td>\n",
       "      <td id=\"T_209b2_row1_col5\" class=\"data row1 col5\" >0.071380</td>\n",
       "    </tr>\n",
       "    <tr>\n",
       "      <th id=\"T_209b2_level0_row2\" class=\"row_heading level0 row2\" >Age</th>\n",
       "      <td id=\"T_209b2_row2_col0\" class=\"data row2 col0\" >0.024445</td>\n",
       "      <td id=\"T_209b2_row2_col1\" class=\"data row2 col1\" >0.067514</td>\n",
       "      <td id=\"T_209b2_row2_col2\" class=\"data row2 col2\" >1.000000</td>\n",
       "      <td id=\"T_209b2_row2_col3\" class=\"data row2 col3\" >-0.053276</td>\n",
       "      <td id=\"T_209b2_row2_col4\" class=\"data row2 col4\" >-0.114943</td>\n",
       "      <td id=\"T_209b2_row2_col5\" class=\"data row2 col5\" >0.107324</td>\n",
       "    </tr>\n",
       "    <tr>\n",
       "      <th id=\"T_209b2_level0_row3\" class=\"row_heading level0 row3\" >ExperienceInCurrentDomain</th>\n",
       "      <td id=\"T_209b2_row3_col0\" class=\"data row3 col0\" >-0.031228</td>\n",
       "      <td id=\"T_209b2_row3_col1\" class=\"data row3 col1\" >-0.004602</td>\n",
       "      <td id=\"T_209b2_row3_col2\" class=\"data row3 col2\" >-0.053276</td>\n",
       "      <td id=\"T_209b2_row3_col3\" class=\"data row3 col3\" >1.000000</td>\n",
       "      <td id=\"T_209b2_row3_col4\" class=\"data row3 col4\" >-0.021181</td>\n",
       "      <td id=\"T_209b2_row3_col5\" class=\"data row3 col5\" >-0.043842</td>\n",
       "    </tr>\n",
       "    <tr>\n",
       "      <th id=\"T_209b2_level0_row4\" class=\"row_heading level0 row4\" >LeaveOrNot</th>\n",
       "      <td id=\"T_209b2_row4_col0\" class=\"data row4 col0\" >0.150650</td>\n",
       "      <td id=\"T_209b2_row4_col1\" class=\"data row4 col1\" >-0.119891</td>\n",
       "      <td id=\"T_209b2_row4_col2\" class=\"data row4 col2\" >-0.114943</td>\n",
       "      <td id=\"T_209b2_row4_col3\" class=\"data row4 col3\" >-0.021181</td>\n",
       "      <td id=\"T_209b2_row4_col4\" class=\"data row4 col4\" >1.000000</td>\n",
       "      <td id=\"T_209b2_row4_col5\" class=\"data row4 col5\" >-0.019661</td>\n",
       "    </tr>\n",
       "    <tr>\n",
       "      <th id=\"T_209b2_level0_row5\" class=\"row_heading level0 row5\" >EduNum</th>\n",
       "      <td id=\"T_209b2_row5_col0\" class=\"data row5 col0\" >-0.113858</td>\n",
       "      <td id=\"T_209b2_row5_col1\" class=\"data row5 col1\" >0.071380</td>\n",
       "      <td id=\"T_209b2_row5_col2\" class=\"data row5 col2\" >0.107324</td>\n",
       "      <td id=\"T_209b2_row5_col3\" class=\"data row5 col3\" >-0.043842</td>\n",
       "      <td id=\"T_209b2_row5_col4\" class=\"data row5 col4\" >-0.019661</td>\n",
       "      <td id=\"T_209b2_row5_col5\" class=\"data row5 col5\" >1.000000</td>\n",
       "    </tr>\n",
       "  </tbody>\n",
       "</table>\n"
      ],
      "text/plain": [
       "<pandas.io.formats.style.Styler at 0x1d6f7500050>"
      ]
     },
     "execution_count": 13,
     "metadata": {},
     "output_type": "execute_result"
    }
   ],
   "source": [
    "# Seleccionamos las comunas con datos numéricos\n",
    "empleados_num = empleados.select_dtypes(np.number)\n",
    "\n",
    "corr_matrix = empleados_num.corr()\n",
    "\n",
    "# Resaltamos la columna que nos interesa (Tipo de educación)\n",
    "corr_matrix.style.apply(lambda x: ['background: mediumslateblue' if x.name == 'EduNum'  else '' for i in x], axis=0)"
   ]
  },
  {
   "cell_type": "code",
   "execution_count": 12,
   "metadata": {},
   "outputs": [
    {
     "data": {
      "text/html": [
       "<div>\n",
       "<style scoped>\n",
       "    .dataframe tbody tr th:only-of-type {\n",
       "        vertical-align: middle;\n",
       "    }\n",
       "\n",
       "    .dataframe tbody tr th {\n",
       "        vertical-align: top;\n",
       "    }\n",
       "\n",
       "    .dataframe thead th {\n",
       "        text-align: right;\n",
       "    }\n",
       "</style>\n",
       "<table border=\"1\" class=\"dataframe\">\n",
       "  <thead>\n",
       "    <tr style=\"text-align: right;\">\n",
       "      <th></th>\n",
       "      <th>EduNum</th>\n",
       "      <th>PaymentTier</th>\n",
       "    </tr>\n",
       "  </thead>\n",
       "  <tbody>\n",
       "    <tr>\n",
       "      <th>EduNum</th>\n",
       "      <td>1.00000</td>\n",
       "      <td>0.07138</td>\n",
       "    </tr>\n",
       "    <tr>\n",
       "      <th>PaymentTier</th>\n",
       "      <td>0.07138</td>\n",
       "      <td>1.00000</td>\n",
       "    </tr>\n",
       "  </tbody>\n",
       "</table>\n",
       "</div>"
      ],
      "text/plain": [
       "              EduNum  PaymentTier\n",
       "EduNum       1.00000      0.07138\n",
       "PaymentTier  0.07138      1.00000"
      ]
     },
     "execution_count": 12,
     "metadata": {},
     "output_type": "execute_result"
    }
   ],
   "source": [
    "# Correlación solo del tipo de educación con la categoría de pago\n",
    "empleados[['EduNum', 'PaymentTier']].corr()\n"
   ]
  },
  {
   "attachments": {},
   "cell_type": "markdown",
   "metadata": {},
   "source": [
    "**No se observa correlación.**\n",
    "\n",
    "En la primer tabla podemos ver que el tipo de educación (EduNum) tiene correlación baja con la edad y correlación negativa baja con el año de ingreso, mientras que la categoría de pago tiene correlación negativa baja con LeaveOrNot.\n",
    "Pero no existe correlación entre ellos."
   ]
  },
  {
   "cell_type": "code",
   "execution_count": 19,
   "metadata": {},
   "outputs": [
    {
     "data": {
      "image/png": "[encoded data removed]",
      "text/plain": [
       "<Figure size 1600x900 with 2 Axes>"
      ]
     },
     "metadata": {},
     "output_type": "display_data"
    }
   ],
   "source": [
    "# Gráfico de Matriz de correlación\n",
    "plt.figure(figsize=(16,9))\n",
    "sns.heatmap(empleados_num.corr(),annot= True,cmap = 'crest')\n",
    "plt.title('Matriz de Correlación', fontsize=16)\n",
    "\n",
    "plt.show()"
   ]
  },
  {
   "attachments": {},
   "cell_type": "markdown",
   "metadata": {},
   "source": [
    "### Análisis comparativo entre Education y PaymentTier"
   ]
  },
  {
   "cell_type": "code",
   "execution_count": 17,
   "metadata": {},
   "outputs": [
    {
     "name": "stdout",
     "output_type": "stream",
     "text": [
      "CANTIDAD DE EMPLEADOS POR TIPO DE EDUCACIÓN\n",
      "Bachelors: 1971\n",
      "Masters: 637\n",
      "PHD: 156\n"
     ]
    }
   ],
   "source": [
    "# Cantidad de empleados por cada tipo de educación\n",
    "bachelors = len(empleados[(empleados['Education']=='Bachelors')])\n",
    "masters = len(empleados[(empleados['Education']=='Masters')])\n",
    "phd = len(empleados[(empleados['Education']=='PHD')])\n",
    "\n",
    "print(f'CANTIDAD DE EMPLEADOS POR TIPO DE EDUCACIÓN\\nBachelors: {bachelors}\\nMasters: {masters}\\nPHD: {phd}')"
   ]
  },
  {
   "cell_type": "code",
   "execution_count": 18,
   "metadata": {},
   "outputs": [
    {
     "name": "stdout",
     "output_type": "stream",
     "text": [
      "CANTIDAD DE EMPLEADOS POR CATEGORÍA DE PAGO\n",
      "Categoría 1: 218\n",
      "Categoría 2: 570\n",
      "Categoría 3: 1976\n"
     ]
    }
   ],
   "source": [
    "# Cantidad de empleados por cada categoría de pago\n",
    "cat1 = len(empleados[(empleados['PaymentTier']==1)])\n",
    "cat2 = len(empleados[(empleados['PaymentTier']==2)])\n",
    "cat3 = len(empleados[(empleados['PaymentTier']==3)])\n",
    "\n",
    "print(f'CANTIDAD DE EMPLEADOS POR CATEGORÍA DE PAGO\\nCategoría 1: {cat1}\\nCategoría 2: {cat2}\\nCategoría 3: {cat3}')"
   ]
  },
  {
   "cell_type": "code",
   "execution_count": 148,
   "metadata": {},
   "outputs": [
    {
     "data": {
      "text/html": [
       "<style type=\"text/css\">\n",
       "</style>\n",
       "<table id=\"T_7284c\">\n",
       "  <thead>\n",
       "    <tr>\n",
       "      <th id=\"T_7284c_level0_col0\" class=\"col_heading level0 col0\" >Education</th>\n",
       "      <th id=\"T_7284c_level0_col1\" class=\"col_heading level0 col1\" >PaymentTier</th>\n",
       "      <th id=\"T_7284c_level0_col2\" class=\"col_heading level0 col2\" >EmployeeCount</th>\n",
       "      <th id=\"T_7284c_level0_col3\" class=\"col_heading level0 col3\" >Percentage</th>\n",
       "    </tr>\n",
       "  </thead>\n",
       "  <tbody>\n",
       "    <tr>\n",
       "      <td id=\"T_7284c_row0_col0\" class=\"data row0 col0\" >Bachelors</td>\n",
       "      <td id=\"T_7284c_row0_col1\" class=\"data row0 col1\" >1</td>\n",
       "      <td id=\"T_7284c_row0_col2\" class=\"data row0 col2\" >150</td>\n",
       "      <td id=\"T_7284c_row0_col3\" class=\"data row0 col3\" >7.61%</td>\n",
       "    </tr>\n",
       "    <tr>\n",
       "      <td id=\"T_7284c_row1_col0\" class=\"data row1 col0\" >Bachelors</td>\n",
       "      <td id=\"T_7284c_row1_col1\" class=\"data row1 col1\" >2</td>\n",
       "      <td id=\"T_7284c_row1_col2\" class=\"data row1 col2\" >336</td>\n",
       "      <td id=\"T_7284c_row1_col3\" class=\"data row1 col3\" >17.05%</td>\n",
       "    </tr>\n",
       "    <tr>\n",
       "      <td id=\"T_7284c_row2_col0\" class=\"data row2 col0\" >Bachelors</td>\n",
       "      <td id=\"T_7284c_row2_col1\" class=\"data row2 col1\" >3</td>\n",
       "      <td id=\"T_7284c_row2_col2\" class=\"data row2 col2\" >1485</td>\n",
       "      <td id=\"T_7284c_row2_col3\" class=\"data row2 col3\" >75.34%</td>\n",
       "    </tr>\n",
       "    <tr>\n",
       "      <td id=\"T_7284c_row3_col0\" class=\"data row3 col0\" >Masters</td>\n",
       "      <td id=\"T_7284c_row3_col1\" class=\"data row3 col1\" >1</td>\n",
       "      <td id=\"T_7284c_row3_col2\" class=\"data row3 col2\" >54</td>\n",
       "      <td id=\"T_7284c_row3_col3\" class=\"data row3 col3\" >8.48%</td>\n",
       "    </tr>\n",
       "    <tr>\n",
       "      <td id=\"T_7284c_row4_col0\" class=\"data row4 col0\" >Masters</td>\n",
       "      <td id=\"T_7284c_row4_col1\" class=\"data row4 col1\" >2</td>\n",
       "      <td id=\"T_7284c_row4_col2\" class=\"data row4 col2\" >215</td>\n",
       "      <td id=\"T_7284c_row4_col3\" class=\"data row4 col3\" >33.75%</td>\n",
       "    </tr>\n",
       "    <tr>\n",
       "      <td id=\"T_7284c_row5_col0\" class=\"data row5 col0\" >Masters</td>\n",
       "      <td id=\"T_7284c_row5_col1\" class=\"data row5 col1\" >3</td>\n",
       "      <td id=\"T_7284c_row5_col2\" class=\"data row5 col2\" >368</td>\n",
       "      <td id=\"T_7284c_row5_col3\" class=\"data row5 col3\" >57.77%</td>\n",
       "    </tr>\n",
       "    <tr>\n",
       "      <td id=\"T_7284c_row6_col0\" class=\"data row6 col0\" >PHD</td>\n",
       "      <td id=\"T_7284c_row6_col1\" class=\"data row6 col1\" >1</td>\n",
       "      <td id=\"T_7284c_row6_col2\" class=\"data row6 col2\" >14</td>\n",
       "      <td id=\"T_7284c_row6_col3\" class=\"data row6 col3\" >8.97%</td>\n",
       "    </tr>\n",
       "    <tr>\n",
       "      <td id=\"T_7284c_row7_col0\" class=\"data row7 col0\" >PHD</td>\n",
       "      <td id=\"T_7284c_row7_col1\" class=\"data row7 col1\" >2</td>\n",
       "      <td id=\"T_7284c_row7_col2\" class=\"data row7 col2\" >19</td>\n",
       "      <td id=\"T_7284c_row7_col3\" class=\"data row7 col3\" >12.18%</td>\n",
       "    </tr>\n",
       "    <tr>\n",
       "      <td id=\"T_7284c_row8_col0\" class=\"data row8 col0\" >PHD</td>\n",
       "      <td id=\"T_7284c_row8_col1\" class=\"data row8 col1\" >3</td>\n",
       "      <td id=\"T_7284c_row8_col2\" class=\"data row8 col2\" >123</td>\n",
       "      <td id=\"T_7284c_row8_col3\" class=\"data row8 col3\" >78.85%</td>\n",
       "    </tr>\n",
       "  </tbody>\n",
       "</table>\n"
      ],
      "text/plain": [
       "<pandas.io.formats.style.Styler at 0x13dc5017610>"
      ]
     },
     "execution_count": 148,
     "metadata": {},
     "output_type": "execute_result"
    }
   ],
   "source": [
    "# Agrupamos por tipo de educación y por categoría de pago\n",
    "df = empleados.groupby(['Education', 'PaymentTier']).size().to_frame('EmployeeCount').reset_index()\n",
    "education_count = df.groupby('Education')['EmployeeCount'].sum()\n",
    "\n",
    "# Sacamos el porcentaje de cada subgrupo\n",
    "df['Percentage'] = df.apply(lambda x: f'{(x[\"EmployeeCount\"] / education_count[x[\"Education\"]]) * 100:.2f}%', axis=1)\n",
    "\n",
    "df.style.hide(axis='index')"
   ]
  },
  {
   "cell_type": "code",
   "execution_count": 164,
   "metadata": {},
   "outputs": [
    {
     "data": {
      "image/png": "[encoded data removed]",
      "text/plain": [
       "<Figure size 640x480 with 1 Axes>"
      ]
     },
     "metadata": {},
     "output_type": "display_data"
    }
   ],
   "source": [
    "# Gráfico de barras para visualizar la distribución de \"categoría de pago\" por cada tipo de educación\n",
    "colors = ['coral', 'cadetblue', 'mediumslateblue']\n",
    "\n",
    "graf1 = empleados.groupby(['Education', 'PaymentTier']).size().unstack()\n",
    "graf1.plot(kind='bar', color=colors)\n",
    "\n",
    "plt.xlabel('Educación')\n",
    "plt.ylabel('Número de empleados')\n",
    "plt.show()"
   ]
  },
  {
   "attachments": {},
   "cell_type": "markdown",
   "metadata": {},
   "source": [
    "* Para los empleados con título de licenciatura (Bachelors), la mayoría se encuentra en la categoría 3, la más baja. Y menos del 25% se divide en las otras dos categorías.\n",
    "* En el caso de los empleados con masters, las categorías se encuentran un poco más distribuídas. Un 57.77% en la categoría 3 y un 33% en la categoría 2.\n",
    "* Para los empleados con doctorado (PHD) ocurre algo similar que en Bachelors."
   ]
  },
  {
   "attachments": {},
   "cell_type": "markdown",
   "metadata": {},
   "source": [
    "### Conclusión\n",
    "---\n",
    "\n",
    "> Luego de este análisis, podemos concluir que la hipótesis planteada, de que un mayor nivel de educación genere una categoría de pago mejor, no se cumple. \n",
    "> Como pudimos observar la mayoría de los empleados se encuentran en la categoría de pago más baja, independientemente del nivel de educación.\n",
    "\n",
    "*Nota: Hay que tener en cuenta que la cantidad de empleados por cada nivel de educación es muy dispar lo que puede influir en los resultados  finales."
   ]
  }
 ],
 "metadata": {
  "kernelspec": {
   "display_name": "venv",
   "language": "python",
   "name": "python3"
  },
  "language_info": {
   "codemirror_mode": {
    "name": "ipython",
    "version": 3
   },
   "file_extension": ".py",
   "mimetype": "text/x-python",
   "name": "python",
   "nbconvert_exporter": "python",
   "pygments_lexer": "ipython3",
   "version": "3.11.2"
  },
  "orig_nbformat": 4
 },
 "nbformat": 4,
 "nbformat_minor": 2
}
