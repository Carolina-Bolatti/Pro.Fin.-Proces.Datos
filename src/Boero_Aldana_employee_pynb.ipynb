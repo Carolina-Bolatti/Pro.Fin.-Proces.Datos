{
  "nbformat": 4,
  "nbformat_minor": 0,
  "metadata": {
    "colab": {
      "provenance": []
    },
    "kernelspec": {
      "name": "python3",
      "display_name": "Python 3"
    },
    "language_info": {
      "name": "python"
    }
  },
  "cells": [
    {
      "cell_type": "code",
      "source": [
        "# Actualizacion con github\n",
        "from google.colab import drive\n",
        "drive.mount('/content/drive')\n",
        "%cd 'Pro.Fin.-Proces.Datos'\n",
        "!git lfs install\n",
        "!git lfs fetch\n",
        "!git lfs pull\n",
        "!git pull\n",
        "!ls -lisa"
      ],
      "metadata": {
        "colab": {
          "base_uri": "https://localhost:8080/"
        },
        "id": "oTJrRrSV_60L",
        "outputId": "9267a17c-be0f-4a41-dab0-273a16d47dc7"
      },
      "execution_count": 25,
      "outputs": [
        {
          "output_type": "stream",
          "name": "stdout",
          "text": [
            "Drive already mounted at /content/drive; to attempt to forcibly remount, call drive.mount(\"/content/drive\", force_remount=True).\n",
            "/content/Pro.Fin.-Proces.Datos/Pro.Fin.-Proces.Datos\n",
            "Updated git hooks.\n",
            "Git LFS initialized.\n",
            "fetch: Fetching reference refs/heads/main\n",
            "Already up to date.\n",
            "total 36\n",
            "1573268 4 drwxr-xr-x 5 root root 4096 Jun 24 01:57 .\n",
            "1573079 4 drwxr-xr-x 6 root root 4096 Jun 24 01:57 ..\n",
            "1573313 4 drwxr-xr-x 2 root root 4096 Jun 24 01:57 data\n",
            "1573269 4 drwxr-xr-x 9 root root 4096 Jun 24 01:57 .git\n",
            "1573297 8 -rw-r--r-- 1 root root 5279 Jun 24 01:57 .gitignore\n",
            "1573312 4 -rw-r--r-- 1 root root 1646 Jun 24 01:57 README.md\n",
            "1573405 4 -rw-r--r-- 1 root root  126 Jun 24 01:57 requirements.txt\n",
            "1573406 4 drwxr-xr-x 2 root root 4096 Jun 24 01:57 src\n"
          ]
        }
      ]
    },
    {
      "cell_type": "code",
      "source": [
        "# Chequeo que tenemos los datos\n",
        "from google.colab import drive\n",
        "drive.mount('/content/drive')\n",
        "%cd 'Pro.Fin.-Proces.Datos'\n",
        "!git lfs install\n",
        "!ls -lrt data\n",
        "!head -2 data/*"
      ],
      "metadata": {
        "colab": {
          "base_uri": "https://localhost:8080/"
        },
        "id": "VTmZCLRe_-uS",
        "outputId": "59f11868-333b-4ad0-8f1d-55dc2ab0d94b"
      },
      "execution_count": 26,
      "outputs": [
        {
          "output_type": "stream",
          "name": "stdout",
          "text": [
            "Drive already mounted at /content/drive; to attempt to forcibly remount, call drive.mount(\"/content/drive\", force_remount=True).\n",
            "[Errno 2] No such file or directory: 'Pro.Fin.-Proces.Datos'\n",
            "/content/Pro.Fin.-Proces.Datos/Pro.Fin.-Proces.Datos\n",
            "Updated git hooks.\n",
            "Git LFS initialized.\n",
            "total 364\n",
            "-rw-r--r-- 1 root root 5707 Jun 24 01:57 MBTI500.data.enriched.txt\n",
            "-rw-r--r-- 1 root root  181 Jun 24 01:57 MBTI500.all.type.count.txt\n",
            "-rw-r--r-- 1 root root   16 Jun 24 01:57 entp.dict\n",
            "-rw-r--r-- 1 root root   15 Jun 24 01:57 entj.dict\n",
            "-rw-r--r-- 1 root root   16 Jun 24 01:57 enfp.dict\n",
            "-rw-r--r-- 1 root root   15 Jun 24 01:57 enfj.dict\n",
            "-rw-r--r-- 1 root root   74 Jun 24 01:57 en.dict\n",
            "-rw-r--r-- 1 root root   14 Jun 24 01:57 det.dict\n",
            "-rw-r--r-- 1 root root   26 Jun 24 01:57 de.dict\n",
            "-rw-r--r-- 1 root root   83 Jun 24 01:57 could.dict\n",
            "-rw-r--r-- 1 root root  199 Jun 24 01:57 come.dict\n",
            "-rw-r--r-- 1 root root  103 Jun 24 01:57 always.dict\n",
            "-rw-r--r-- 1 root root  243 Jun 24 01:57 also.dict\n",
            "-rw-r--r-- 1 root root   19 Jun 24 01:57 actually.dict\n",
            "-rw-r--r-- 1 root root  246 Jun 24 01:57 know.dict\n",
            "-rw-r--r-- 1 root root   13 Jun 24 01:57 jeg.dict\n",
            "-rw-r--r-- 1 root root   15 Jun 24 01:57 istp.dict\n",
            "-rw-r--r-- 1 root root   15 Jun 24 01:57 istj.dict\n",
            "-rw-r--r-- 1 root root   15 Jun 24 01:57 isfp.dict\n",
            "-rw-r--r-- 1 root root   15 Jun 24 01:57 isfj.dict\n",
            "-rw-r--r-- 1 root root   16 Jun 24 01:57 intp.dict\n",
            "-rw-r--r-- 1 root root   16 Jun 24 01:57 intj.dict\n",
            "-rw-r--r-- 1 root root   20 Jun 24 01:57 interest.dict\n",
            "-rw-r--r-- 1 root root   16 Jun 24 01:57 infp.dict\n",
            "-rw-r--r-- 1 root root   16 Jun 24 01:57 infj.dict\n",
            "-rw-r--r-- 1 root root   14 Jun 24 01:57 ikke.dict\n",
            "-rw-r--r-- 1 root root   16 Jun 24 01:57 help.dict\n",
            "-rw-r--r-- 1 root root  460 Jun 24 01:57 header.txt\n",
            "-rw-r--r-- 1 root root  246 Jun 24 01:57 good.dict\n",
            "-rw-r--r-- 1 root root  460 Jun 24 01:57 go.dict\n",
            "-rw-r--r-- 1 root root   46 Jun 24 01:57 give.dict\n",
            "-rw-r--r-- 1 root root  233 Jun 24 01:57 get.dict\n",
            "-rw-r--r-- 1 root root   18 Jun 24 01:57 germany.dict\n",
            "-rw-r--r-- 1 root root   35 Jun 24 01:57 german.dict\n",
            "-rw-r--r-- 1 root root  111 Jun 24 01:57 function.dict\n",
            "-rw-r--r-- 1 root root  242 Jun 24 01:57 friend.dict\n",
            "-rw-r--r-- 1 root root  200 Jun 24 01:57 find.dict\n",
            "-rw-r--r-- 1 root root  225 Jun 24 01:57 fi.dict\n",
            "-rw-r--r-- 1 root root  245 Jun 24 01:57 feel.dict\n",
            "-rw-r--r-- 1 root root  283 Jun 24 01:57 fe.dict\n",
            "-rw-r--r-- 1 root root  229 Jun 24 01:57 even.dict\n",
            "-rw-r--r-- 1 root root   15 Jun 24 01:57 estp.dict\n",
            "-rw-r--r-- 1 root root   15 Jun 24 01:57 estj.dict\n",
            "-rw-r--r-- 1 root root   15 Jun 24 01:57 esfp.dict\n",
            "-rw-r--r-- 1 root root   14 Jun 24 01:57 esfj.dict\n",
            "-rw-r--r-- 1 root root   13 Jun 24 01:57 er.dict\n",
            "-rw-r--r-- 1 root root  119 Jun 24 01:57 though.dict\n",
            "-rw-r--r-- 1 root root  266 Jun 24 01:57 think.dict\n",
            "-rw-r--r-- 1 root root  262 Jun 24 01:57 thing.dict\n",
            "-rw-r--r-- 1 root root   15 Jun 24 01:57 thank.dict\n",
            "-rw-r--r-- 1 root root  107 Jun 24 01:57 talk.dict\n",
            "-rw-r--r-- 1 root root  243 Jun 24 01:57 take.dict\n",
            "-rw-r--r-- 1 root root   16 Jun 24 01:57 still.dict\n",
            "-rw-r--r-- 1 root root  323 Jun 24 01:57 something.dict\n",
            "-rw-r--r-- 1 root root  204 Jun 24 01:57 someone.dict\n",
            "-rw-r--r-- 1 root root   25 Jun 24 01:57 si.dict\n",
            "-rw-r--r-- 1 root root   14 Jun 24 01:57 seem.dict\n",
            "-rw-r--r-- 1 root root  243 Jun 24 01:57 see.dict\n",
            "-rw-r--r-- 1 root root  255 Jun 24 01:57 se.dict\n",
            "-rw-r--r-- 1 root root  230 Jun 24 01:57 say.dict\n",
            "-rw-r--r-- 1 root root   16 Jun 24 01:57 right.dict\n",
            "-rw-r--r-- 1 root root  278 Jun 24 01:57 really.dict\n",
            "-rw-r--r-- 1 root root   16 Jun 24 01:57 pretty.dict\n",
            "-rw-r--r-- 1 root root   52 Jun 24 01:57 person.dict\n",
            "-rw-r--r-- 1 root root  282 Jun 24 01:57 people.dict\n",
            "-rw-r--r-- 1 root root  231 Jun 24 01:57 one.dict\n",
            "-rw-r--r-- 1 root root   12 Jun 24 01:57 og.dict\n",
            "-rw-r--r-- 1 root root  171 Jun 24 01:57 need.dict\n",
            "-rw-r--r-- 1 root root  243 Jun 24 01:57 much.dict\n",
            "-rw-r--r-- 1 root root  167 Jun 24 01:57 mean.dict\n",
            "-rw-r--r-- 1 root root  247 Jun 24 01:57 make.dict\n",
            "-rw-r--r-- 1 root root  122 Jun 24 01:57 love.dict\n",
            "-rw-r--r-- 1 root root  227 Jun 24 01:57 lot.dict\n",
            "-rw-r--r-- 1 root root  138 Jun 24 01:57 look.dict\n",
            "-rw-r--r-- 1 root root   13 Jun 24 01:57 lol.dict\n",
            "-rw-r--r-- 1 root root  253 Jun 24 01:57 like.dict\n",
            "-rw-r--r-- 1 root root   95 Jun 24 01:57 life.dict\n",
            "-rw-r--r-- 1 root root   15 Jun 24 01:57 year.dict\n",
            "-rw-r--r-- 1 root root   14 Jun 24 01:57 yeah.dict\n",
            "-rw-r--r-- 1 root root  262 Jun 24 01:57 would.dict\n",
            "-rw-r--r-- 1 root root  229 Jun 24 01:57 work.dict\n",
            "-rw-r--r-- 1 root root  243 Jun 24 01:57 well.dict\n",
            "-rw-r--r-- 1 root root  227 Jun 24 01:57 way.dict\n",
            "-rw-r--r-- 1 root root  244 Jun 24 01:57 want.dict\n",
            "-rw-r--r-- 1 root root  212 Jun 24 01:57 use.dict\n",
            "-rw-r--r-- 1 root root  224 Jun 24 01:57 u.dict\n",
            "-rw-r--r-- 1 root root  245 Jun 24 01:57 type.dict\n",
            "-rw-r--r-- 1 root root  227 Jun 24 01:57 try.dict\n",
            "-rw-r--r-- 1 root root  245 Jun 24 01:57 time.dict\n",
            "-rw-r--r-- 1 root root   13 Jun 24 01:57 til.dict\n",
            "==> data/actually.dict <==\n",
            "2550\tESTP\tactually\n",
            "\n",
            "==> data/also.dict <==\n",
            "3437\tENFJ\talso\n",
            "13704\tENFP\talso\n",
            "\n",
            "==> data/always.dict <==\n",
            "10250\tENFP\talways\n",
            "332\tESFJ\talways\n",
            "\n",
            "==> data/come.dict <==\n",
            "2409\tENFJ\tcome\n",
            "10208\tENFP\tcome\n",
            "\n",
            "==> data/could.dict <==\n",
            "17334\tENTP\tcould\n",
            "2764\tESTP\tcould\n",
            "\n",
            "==> data/de.dict <==\n",
            "1753\tESTJ\tdet\n",
            "780\tESTJ\tde\n",
            "\n",
            "==> data/det.dict <==\n",
            "1753\tESTJ\tdet\n",
            "\n",
            "==> data/en.dict <==\n",
            "3817\tENFJ\tenfj\n",
            "18756\tENFP\tenfp\n",
            "\n",
            "==> data/enfj.dict <==\n",
            "3817\tENFJ\tenfj\n",
            "\n",
            "==> data/enfp.dict <==\n",
            "18756\tENFP\tenfp\n",
            "\n",
            "==> data/entj.dict <==\n",
            "8349\tENTJ\tentj\n",
            "\n",
            "==> data/entp.dict <==\n",
            "27712\tENTP\tentp\n",
            "\n",
            "==> data/er.dict <==\n",
            "1746\tESTJ\ter\n",
            "\n",
            "==> data/esfj.dict <==\n",
            "720\tESFJ\tesfj\n",
            "\n",
            "==> data/esfp.dict <==\n",
            "1056\tESFP\tesfp\n",
            "\n",
            "==> data/estj.dict <==\n",
            "1118\tESTJ\testj\n",
            "\n",
            "==> data/estp.dict <==\n",
            "2684\tESTP\testp\n",
            "\n",
            "==> data/even.dict <==\n",
            "2714\tENFJ\teven\n",
            "11539\tENFP\teven\n",
            "\n",
            "==> data/fe.dict <==\n",
            "7462\tENFJ\tfeel\n",
            "2705\tENFJ\tfe\n",
            "\n",
            "==> data/feel.dict <==\n",
            "7462\tENFJ\tfeel\n",
            "29093\tENFP\tfeel\n",
            "\n",
            "==> data/fi.dict <==\n",
            "3108\tENFJ\tfind\n",
            "13416\tENFP\tfind\n",
            "\n",
            "==> data/find.dict <==\n",
            "3108\tENFJ\tfind\n",
            "13416\tENFP\tfind\n",
            "\n",
            "==> data/friend.dict <==\n",
            "3426\tENFJ\tfriend\n",
            "16660\tENFP\tfriend\n",
            "\n",
            "==> data/function.dict <==\n",
            "2516\tENFJ\tfunction\n",
            "391\tESFJ\tfunction\n",
            "\n",
            "==> data/german.dict <==\n",
            "3249\tESTP\tgerman\n",
            "2876\tESTP\tgermany\n",
            "\n",
            "==> data/germany.dict <==\n",
            "2876\tESTP\tgermany\n",
            "\n",
            "==> data/get.dict <==\n",
            "7222\tENFJ\tget\n",
            "35114\tENFP\tget\n",
            "\n",
            "==> data/give.dict <==\n",
            "4244\tENTJ\tgive\n",
            "31489\tINTJ\tgive\n",
            "\n",
            "==> data/go.dict <==\n",
            "5161\tENFJ\tgood\n",
            "4882\tENFJ\tgo\n",
            "\n",
            "==> data/good.dict <==\n",
            "5161\tENFJ\tgood\n",
            "21162\tENFP\tgood\n",
            "\n",
            "==> data/header.txt <==\n",
            "type\tcount\tactually\talso\talways\tcome\tcould\tde\tdet\ten\tenfj\tenfp\tentj\tentp\ter\tesfj\tesfp\testj\testp\teven\tfe\tfeel\tfi\tfind\tfriend\tfunction\tgerman\tgermany\tget\tgive\tgo\tgood\thelp\tikke\tinfj\tinfp\tinterest\tintj\tintp\tisfj\tisfp\tistj\tistp\tjeg\tknow\tlife\tlike\tlol\tlook\tlot\tlove\tmake\tmean\tmuch\tneed\tog\tone\tpeople\tperson\tpretty\treally\tright\tsay\tse\tsee\tseem\tsi\tsomeone\tsomething\tstill\ttake\ttalk\tthank\tthing\tthink\tthough\ttil\ttime\ttry\ttype\tu\tuse\twant\tway\twell\twork\twould\tyeah\tyear\t\n",
            "\n",
            "==> data/help.dict <==\n",
            "24565\tINFJ\thelp\n",
            "\n",
            "==> data/ikke.dict <==\n",
            "988\tESTJ\tikke\n",
            "\n",
            "==> data/infj.dict <==\n",
            "38828\tINFJ\tinfj\n",
            "\n",
            "==> data/infp.dict <==\n",
            "30627\tINFP\tinfp\n",
            "\n",
            "==> data/interest.dict <==\n",
            "34945\tINTP\tinterest\n",
            "\n",
            "==> data/intj.dict <==\n",
            "55109\tINTJ\tintj\n",
            "\n",
            "==> data/intp.dict <==\n",
            "59896\tINTP\tintp\n",
            "\n",
            "==> data/isfj.dict <==\n",
            "2080\tISFJ\tisfj\n",
            "\n",
            "==> data/isfp.dict <==\n",
            "2746\tISFP\tisfp\n",
            "\n",
            "==> data/istj.dict <==\n",
            "3222\tISTJ\tistj\n",
            "\n",
            "==> data/istp.dict <==\n",
            "8992\tISTP\tistp\n",
            "\n",
            "==> data/jeg.dict <==\n",
            "728\tESTJ\tjeg\n",
            "\n",
            "==> data/know.dict <==\n",
            "6303\tENFJ\tknow\n",
            "24558\tENFP\tknow\n",
            "\n",
            "==> data/life.dict <==\n",
            "12016\tENFP\tlife\n",
            "4377\tENTJ\tlife\n",
            "\n",
            "==> data/like.dict <==\n",
            "10574\tENFJ\tlike\n",
            "44551\tENFP\tlike\n",
            "\n",
            "==> data/lol.dict <==\n",
            "315\tESFJ\tlol\n",
            "\n",
            "==> data/look.dict <==\n",
            "4458\tENTJ\tlook\n",
            "17217\tENTP\tlook\n",
            "\n",
            "==> data/lot.dict <==\n",
            "2975\tENFJ\tlot\n",
            "12457\tENFP\tlot\n",
            "\n",
            "==> data/love.dict <==\n",
            "3615\tENFJ\tlove\n",
            "16644\tENFP\tlove\n",
            "\n",
            "==> data/make.dict <==\n",
            "6325\tENFJ\tmake\n",
            "25484\tENFP\tmake\n",
            "\n",
            "==> data/MBTI500.all.type.count.txt <==\n",
            "1534 ENFJ\n",
            "6167 ENFP\n",
            "\n",
            "==> data/MBTI500.data.enriched.txt <==\n",
            "type\tcount\tactually\talso\talways\tcome\tcould\tde\tdet\ten\tenfj\tenfp\tentj\tentp\ter\tesfj\tesfp\testj\testp\teven\tfe\tfeel\tfi\tfind\tfriend\tfunction\tgerman\tgermany\tget\tgive\tgo\tgood\thelp\tikke\tinfj\tinfp\tinterest\tintj\tintp\tisfj\tisfp\tistj\tistp\tjeg\tknow\tlife\tlike\tlol\tlook\tlot\tlove\tmake\tmean\tmuch\tneed\tog\tone\tpeople\tperson\tpretty\treally\tright\tsay\tse\tsee\tseem\tsi\tsomeone\tsomething\tstill\ttake\ttalk\tthank\tthing\tthink\tthough\ttil\ttime\ttry\ttype\tu\tuse\twant\tway\twell\twork\twould\tyeah\tyear\t\n",
            "ENFJ\t1534\t0\t3437\t0\t2409\t0\t0\t0\t3817\t3817\t0\t0\t0\t0\t0\t0\t0\t0\t2714\t2705\t7462\t3108\t3108\t3426\t2516\t0\t0\t7222\t0\t4882\t5161\t0\t0\t0\t0\t0\t0\t0\t0\t0\t0\t0\t0\t6303\t0\t10574\t0\t0\t2975\t3615\t6325\t2495\t3467\t3091\t0\t4995\t8967\t2396\t0\t5441\t0\t5456\t3915\t3915\t0\t0\t2930\t3250\t0\t3112\t0\t0\t5902\t9264\t0\t0\t4630\t3357\t4462\t2421\t2421\t4354\t3903\t2921\t2824\t5231\t0\t0\n",
            "\n",
            "==> data/mean.dict <==\n",
            "2495\tENFJ\tmean\n",
            "9268\tENFP\tmean\n",
            "\n",
            "==> data/much.dict <==\n",
            "3467\tENFJ\tmuch\n",
            "14290\tENFP\tmuch\n",
            "\n",
            "==> data/need.dict <==\n",
            "3091\tENFJ\tneed\n",
            "12288\tENFP\tneed\n",
            "\n",
            "==> data/og.dict <==\n",
            "896\tESTJ\tog\n",
            "\n",
            "==> data/one.dict <==\n",
            "4995\tENFJ\tone\n",
            "22212\tENFP\tone\n",
            "\n",
            "==> data/people.dict <==\n",
            "8967\tENFJ\tpeople\n",
            "32681\tENFP\tpeople\n",
            "\n",
            "==> data/person.dict <==\n",
            "2396\tENFJ\tperson\n",
            "9419\tENFP\tperson\n",
            "\n",
            "==> data/pretty.dict <==\n",
            "564\tESFP\tpretty\n",
            "\n",
            "==> data/really.dict <==\n",
            "5441\tENFJ\treally\n",
            "21868\tENFP\treally\n",
            "\n",
            "==> data/right.dict <==\n",
            "2992\tESTP\tright\n",
            "\n",
            "==> data/say.dict <==\n",
            "5456\tENFJ\tsay\n",
            "19984\tENFP\tsay\n",
            "\n",
            "==> data/se.dict <==\n",
            "3915\tENFJ\tsee\n",
            "13842\tENFP\tsee\n",
            "\n",
            "==> data/see.dict <==\n",
            "3915\tENFJ\tsee\n",
            "13842\tENFP\tsee\n",
            "\n",
            "==> data/seem.dict <==\n",
            "603\tESFP\tseem\n",
            "\n",
            "==> data/si.dict <==\n",
            "693\tESTJ\tsi\n",
            "1138\tISFJ\tsi\n",
            "\n",
            "==> data/someone.dict <==\n",
            "2930\tENFJ\tsomeone\n",
            "11101\tENFP\tsomeone\n",
            "\n",
            "==> data/something.dict <==\n",
            "3250\tENFJ\tsomething\n",
            "13343\tENFP\tsomething\n",
            "\n",
            "==> data/still.dict <==\n",
            "2627\tESTP\tstill\n",
            "\n",
            "==> data/take.dict <==\n",
            "3112\tENFJ\ttake\n",
            "12853\tENFP\ttake\n",
            "\n",
            "==> data/talk.dict <==\n",
            "10577\tENFP\ttalk\n",
            "16569\tENTP\ttalk\n",
            "\n",
            "==> data/thank.dict <==\n",
            "330\tESFJ\tthank\n",
            "\n",
            "==> data/thing.dict <==\n",
            "5902\tENFJ\tthing\n",
            "25558\tENFP\tthing\n",
            "\n",
            "==> data/think.dict <==\n",
            "9264\tENFJ\tthink\n",
            "34809\tENFP\tthink\n",
            "\n",
            "==> data/though.dict <==\n",
            "16346\tENTP\tthough\n",
            "349\tESFJ\tthough\n",
            "\n",
            "==> data/til.dict <==\n",
            "717\tESTJ\ttil\n",
            "\n",
            "==> data/time.dict <==\n",
            "4630\tENFJ\ttime\n",
            "22492\tENFP\ttime\n",
            "\n",
            "==> data/try.dict <==\n",
            "3357\tENFJ\ttry\n",
            "13685\tENFP\ttry\n",
            "\n",
            "==> data/type.dict <==\n",
            "4462\tENFJ\ttype\n",
            "12209\tENFP\ttype\n",
            "\n",
            "==> data/u.dict <==\n",
            "2421\tENFJ\tuse\n",
            "4990\tENTJ\tuse\n",
            "\n",
            "==> data/use.dict <==\n",
            "2421\tENFJ\tuse\n",
            "4990\tENTJ\tuse\n",
            "\n",
            "==> data/want.dict <==\n",
            "4354\tENFJ\twant\n",
            "19387\tENFP\twant\n",
            "\n",
            "==> data/way.dict <==\n",
            "3903\tENFJ\tway\n",
            "15935\tENFP\tway\n",
            "\n",
            "==> data/well.dict <==\n",
            "2921\tENFJ\twell\n",
            "11149\tENFP\twell\n",
            "\n",
            "==> data/work.dict <==\n",
            "2824\tENFJ\twork\n",
            "13580\tENFP\twork\n",
            "\n",
            "==> data/would.dict <==\n",
            "5231\tENFJ\twould\n",
            "16753\tENFP\twould\n",
            "\n",
            "==> data/yeah.dict <==\n",
            "622\tESFP\tyeah\n",
            "\n",
            "==> data/year.dict <==\n",
            "2585\tESTP\tyear\n"
          ]
        }
      ]
    },
    {
      "cell_type": "code",
      "source": [
        "# Carga de datos de empleo\n",
        "from google.colab import drive\n",
        "drive.mount('/content/drive')\n",
        "!ls\n",
        "import pandas as pd\n",
        "empleados = pd.read_csv('/content/drive/MyDrive/ProcesamientoDeDatos/Employee.csv')\n",
        "print(empleados)\n"
      ],
      "metadata": {
        "colab": {
          "base_uri": "https://localhost:8080/"
        },
        "id": "2lxM4nM4AD41",
        "outputId": "457cbfe2-e0e6-4d55-8af4-d7b9d60a15ec"
      },
      "execution_count": 27,
      "outputs": [
        {
          "output_type": "stream",
          "name": "stdout",
          "text": [
            "Drive already mounted at /content/drive; to attempt to forcibly remount, call drive.mount(\"/content/drive\", force_remount=True).\n",
            "data  README.md  requirements.txt  src\n",
            "      Education  JoiningYear       City  PaymentTier  Age  Gender EverBenched  \\\n",
            "0     Bachelors         2017  Bangalore            3   34    Male          No   \n",
            "1     Bachelors         2013       Pune            1   28  Female          No   \n",
            "2     Bachelors         2014  New Delhi            3   38  Female          No   \n",
            "3       Masters         2016  Bangalore            3   27    Male          No   \n",
            "4       Masters         2017       Pune            3   24    Male         Yes   \n",
            "...         ...          ...        ...          ...  ...     ...         ...   \n",
            "4648  Bachelors         2013  Bangalore            3   26  Female          No   \n",
            "4649    Masters         2013       Pune            2   37    Male          No   \n",
            "4650    Masters         2018  New Delhi            3   27    Male          No   \n",
            "4651  Bachelors         2012  Bangalore            3   30    Male         Yes   \n",
            "4652  Bachelors         2015  Bangalore            3   33    Male         Yes   \n",
            "\n",
            "      ExperienceInCurrentDomain  LeaveOrNot  \n",
            "0                             0           0  \n",
            "1                             3           1  \n",
            "2                             2           0  \n",
            "3                             5           1  \n",
            "4                             2           1  \n",
            "...                         ...         ...  \n",
            "4648                          4           0  \n",
            "4649                          2           1  \n",
            "4650                          5           1  \n",
            "4651                          2           0  \n",
            "4652                          4           0  \n",
            "\n",
            "[4653 rows x 9 columns]\n"
          ]
        }
      ]
    },
    {
      "cell_type": "code",
      "source": [
        "empleados.info()"
      ],
      "metadata": {
        "colab": {
          "base_uri": "https://localhost:8080/"
        },
        "id": "wxTFwmVEbWT3",
        "outputId": "699a3a5c-e02e-410f-d0e0-319d7b233455"
      },
      "execution_count": 28,
      "outputs": [
        {
          "output_type": "stream",
          "name": "stdout",
          "text": [
            "<class 'pandas.core.frame.DataFrame'>\n",
            "RangeIndex: 4653 entries, 0 to 4652\n",
            "Data columns (total 9 columns):\n",
            " #   Column                     Non-Null Count  Dtype \n",
            "---  ------                     --------------  ----- \n",
            " 0   Education                  4653 non-null   object\n",
            " 1   JoiningYear                4653 non-null   int64 \n",
            " 2   City                       4653 non-null   object\n",
            " 3   PaymentTier                4653 non-null   int64 \n",
            " 4   Age                        4653 non-null   int64 \n",
            " 5   Gender                     4653 non-null   object\n",
            " 6   EverBenched                4653 non-null   object\n",
            " 7   ExperienceInCurrentDomain  4653 non-null   int64 \n",
            " 8   LeaveOrNot                 4653 non-null   int64 \n",
            "dtypes: int64(5), object(4)\n",
            "memory usage: 327.3+ KB\n"
          ]
        }
      ]
    },
    {
      "cell_type": "code",
      "source": [
        "# Establecer la precisión y formato de visualización\n",
        "pd.set_option('display.precision', 2)\n",
        "pd.set_option('display.float_format', lambda x: '%.2f' % x)\n",
        "\n",
        "# Mostrar el resumen estadístico\n",
        "descripcion = empleados['Age'].describe()\n",
        "print(descripcion)"
      ],
      "metadata": {
        "colab": {
          "base_uri": "https://localhost:8080/"
        },
        "id": "h1OcZcCPbycA",
        "outputId": "c8f75660-6a53-4595-95ce-11cd017da4b0"
      },
      "execution_count": 29,
      "outputs": [
        {
          "output_type": "stream",
          "name": "stdout",
          "text": [
            "count   4653.00\n",
            "mean      29.39\n",
            "std        4.83\n",
            "min       22.00\n",
            "25%       26.00\n",
            "50%       28.00\n",
            "75%       32.00\n",
            "max       41.00\n",
            "Name: Age, dtype: float64\n"
          ]
        }
      ]
    },
    {
      "cell_type": "code",
      "source": [
        "import pandas as pd\n",
        "import matplotlib.pyplot as plt"
      ],
      "metadata": {
        "id": "6RxjXYfEAdNa"
      },
      "execution_count": 31,
      "outputs": []
    },
    {
      "cell_type": "code",
      "source": [
        "#Calcular la mediana\n",
        "mediana = empleados['Age'].median()\n",
        "print(\"Mediana:\", mediana)"
      ],
      "metadata": {
        "colab": {
          "base_uri": "https://localhost:8080/"
        },
        "id": "WOqTRLcmAhXR",
        "outputId": "166ac88a-7f4e-4a65-8898-06149421645f"
      },
      "execution_count": 32,
      "outputs": [
        {
          "output_type": "stream",
          "name": "stdout",
          "text": [
            "Mediana: 28.0\n"
          ]
        }
      ]
    },
    {
      "cell_type": "code",
      "source": [
        "#Calcular la moda\n",
        "moda = empleados['Age'].mode().iloc[0]\n",
        "print(\"Moda:\", moda)"
      ],
      "metadata": {
        "colab": {
          "base_uri": "https://localhost:8080/"
        },
        "id": "X3tGuk9hA6w7",
        "outputId": "bd76bcd9-0c14-41bb-b04d-25fcba97193d"
      },
      "execution_count": 33,
      "outputs": [
        {
          "output_type": "stream",
          "name": "stdout",
          "text": [
            "Moda: 26\n"
          ]
        }
      ]
    },
    {
      "cell_type": "code",
      "source": [
        "#Calcular la media\n",
        "media = empleados['Age'].mean()\n",
        "print(\"Media:\", media)"
      ],
      "metadata": {
        "colab": {
          "base_uri": "https://localhost:8080/"
        },
        "id": "7a1CBnoGBRQ8",
        "outputId": "07516480-2010-4f8e-c08a-da9ddeac5456"
      },
      "execution_count": 34,
      "outputs": [
        {
          "output_type": "stream",
          "name": "stdout",
          "text": [
            "Media: 29.393294648613796\n"
          ]
        }
      ]
    },
    {
      "cell_type": "code",
      "source": [
        "#Calcular el valor minimo\n",
        "minimo = empleados['Age'].min()\n",
        "print(\"Minimo:\", minimo)"
      ],
      "metadata": {
        "colab": {
          "base_uri": "https://localhost:8080/"
        },
        "id": "TkdnElF6BmTx",
        "outputId": "019ef7fb-170c-4c8f-bd56-afbfbec23e9e"
      },
      "execution_count": 35,
      "outputs": [
        {
          "output_type": "stream",
          "name": "stdout",
          "text": [
            "Minimo: 22\n"
          ]
        }
      ]
    },
    {
      "cell_type": "code",
      "source": [
        "#Calcular el maximo\n",
        "maximo = empleados['Age'].max()\n",
        "print(\"Maximo:\", maximo)"
      ],
      "metadata": {
        "colab": {
          "base_uri": "https://localhost:8080/"
        },
        "id": "fpcDRiGqB5rz",
        "outputId": "2c715049-c610-4dc5-d404-5ed297687561"
      },
      "execution_count": 36,
      "outputs": [
        {
          "output_type": "stream",
          "name": "stdout",
          "text": [
            "Maximo: 41\n"
          ]
        }
      ]
    },
    {
      "cell_type": "code",
      "source": [
        "# Crea un histograma de la columna 'Age'\n",
        "plt.hist(empleados['Age'], bins=10)\n",
        "plt.xlabel('Age')\n",
        "plt.ylabel('Frequency')\n",
        "plt.title('Medidas de concentracion sobre edad(Age)')\n",
        "\n",
        "# Agrega líneas verticales para representar la media, moda, mediana, mínimo y máximo\n",
        "plt.axvline(mediana, color='r', linestyle='dashed', linewidth=2, label='Mediana')\n",
        "plt.axvline(moda, color='g', linestyle='dashed', linewidth=2, label='Moda')\n",
        "plt.axvline(media, color='b', linestyle='dashed', linewidth=2, label='Media')\n",
        "plt.axvline(minimo, color='c', linestyle='dashed', linewidth=2, label='Minimo')\n",
        "plt.axvline(maximo, color='m', linestyle='dashed', linewidth=2, label='Maximo')\n",
        "\n",
        "# Agrega una leyenda\n",
        "plt.legend()\n",
        "\n",
        "plt.show()"
      ],
      "metadata": {
        "colab": {
          "base_uri": "https://localhost:8080/",
          "height": 472
        },
        "id": "JFCea7oJtcih",
        "outputId": "7d0629ac-9aae-446f-a23a-6ea2f95bc141"
      },
      "execution_count": 20,
      "outputs": [
        {
          "output_type": "display_data",
          "data": {
            "text/plain": [
              "<Figure size 640x480 with 1 Axes>"
            ],
            "image/png": "[encoded data removed]"
          },
          "metadata": {}
        }
      ]
    },
    {
      "cell_type": "code",
      "source": [
        "# Crea un diagrama de caja de la columna 'Age'\n",
        "plt.boxplot(empleados['Age'])\n",
        "plt.ylabel('Age')\n",
        "plt.title('Medidas de concentracion sobre edad (Age)')\n",
        "\n",
        "# Agrega puntos para representar la media, moda, mediana, mínimo y máximo\n",
        "plt.scatter(1, mediana, color='r', label='Mediana')\n",
        "plt.scatter(1, moda, color='g', label='Moda')\n",
        "plt.scatter(1, media, color='b', label='Media')\n",
        "plt.scatter(1, minimo, color='c', label='Minimo')\n",
        "plt.scatter(1, maximo, color='m', label='Maximo')\n",
        "\n",
        "# Agrega una leyenda\n",
        "plt.legend()\n",
        "\n",
        "plt.show()"
      ],
      "metadata": {
        "colab": {
          "base_uri": "https://localhost:8080/",
          "height": 452
        },
        "id": "lr3A7y8-t95A",
        "outputId": "2c8d3012-7ce1-4a9a-861e-5e5708083075"
      },
      "execution_count": 21,
      "outputs": [
        {
          "output_type": "display_data",
          "data": {
            "text/plain": [
              "<Figure size 640x480 with 1 Axes>"
            ],
            "image/png": "[encoded data removed]"
          },
          "metadata": {}
        }
      ]
    }
  ]
}