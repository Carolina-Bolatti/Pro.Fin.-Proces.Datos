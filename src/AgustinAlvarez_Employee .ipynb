{
 "cells": [
  {
   "cell_type": "code",
   "execution_count": 12,
   "id": "6fa3c7a0",
   "metadata": {},
   "outputs": [],
   "source": [
    "import pandas as pd\n",
    "import numpy as np\n",
    "import matplotlib.pyplot as plt\n",
    "import seaborn as sns  # seaborn para plotear "
   ]
  },
  {
   "cell_type": "code",
   "execution_count": null,
   "id": "8161b8b6",
   "metadata": {},
   "outputs": [],
   "source": [
    "empleados = pd.read_csv('Employee.csv', encoding = \"ISO-8859-1\", delimiter=',')  "
   ]
  },
  {
   "cell_type": "markdown",
   "id": "0b62180c",
   "metadata": {},
   "source": [
    "**RELACION ENTRE GENERO Y CATEGORIA DE PAGO**"
   ]
  },
  {
   "cell_type": "code",
   "execution_count": 25,
   "id": "aa8c28f5",
   "metadata": {},
   "outputs": [
    {
     "data": {
      "text/plain": [
       "PaymentTier  Gender\n",
       "1            Female     131\n",
       "             Male       112\n",
       "2            Female     605\n",
       "             Male       313\n",
       "3            Female    1139\n",
       "             Male      2353\n",
       "Name: Gender, dtype: int64"
      ]
     },
     "execution_count": 25,
     "metadata": {},
     "output_type": "execute_result"
    }
   ],
   "source": [
    "empleados.groupby([\"PaymentTier\", \"Gender\"])[\"Gender\"].count()"
   ]
  },
  {
   "cell_type": "code",
   "execution_count": 28,
   "id": "8ce6c386",
   "metadata": {},
   "outputs": [
    {
     "data": {
      "image/png": "[encoded data removed]",
      "text/plain": [
       "<Figure size 432x288 with 1 Axes>"
      ]
     },
     "metadata": {
      "needs_background": "light"
     },
     "output_type": "display_data"
    }
   ],
   "source": [
    "category_gender_counts = empleados.groupby(['PaymentTier', 'Gender']).size().unstack()\n",
    "\n",
    "category_gender_counts.plot(kind='bar')\n",
    "\n",
    "plt.xlabel('Categoría de Pago')\n",
    "plt.ylabel('Cantidad')\n",
    "plt.title('Relación de género y categoría de pago')\n",
    "plt.legend(title='Género')\n",
    "plt.show()"
   ]
  },
  {
   "cell_type": "markdown",
   "id": "646037c0",
   "metadata": {},
   "source": [
    "Se puede ver que en las categorías 1 y 2, la mayoría pertenece al género femenimo. En cambio en la categoría 3, el género masculino supera ampliamente al femenino."
   ]
  }
 ],
 "metadata": {
  "kernelspec": {
   "display_name": "Python 3 (ipykernel)",
   "language": "python",
   "name": "python3"
  },
  "language_info": {
   "codemirror_mode": {
    "name": "ipython",
    "version": 3
   },
   "file_extension": ".py",
   "mimetype": "text/x-python",
   "name": "python",
   "nbconvert_exporter": "python",
   "pygments_lexer": "ipython3",
   "version": "3.9.12"
  }
 },
 "nbformat": 4,
 "nbformat_minor": 5
}
