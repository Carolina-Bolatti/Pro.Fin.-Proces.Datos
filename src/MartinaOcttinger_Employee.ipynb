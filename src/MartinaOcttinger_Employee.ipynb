{
 "cells": [
  {
   "attachments": {},
   "cell_type": "markdown",
   "metadata": {},
   "source": [
    "### Dataset: Employee Future Prediction\n",
    "[Dataset en Kaggle](https://www.kaggle.com/datasets/tejashvi14/employee-future-prediction)"
   ]
  },
  {
   "cell_type": "code",
   "execution_count": 37,
   "metadata": {},
   "outputs": [],
   "source": [
    "# importaciones\n",
    "import numpy as np\n",
    "import pandas as pd\n",
    "import seaborn as sns\n",
    "import matplotlib.pyplot as plt"
   ]
  },
  {
   "cell_type": "code",
   "execution_count": 76,
   "metadata": {},
   "outputs": [
    {
     "data": {
      "text/html": [
       "<div>\n",
       "<style scoped>\n",
       "    .dataframe tbody tr th:only-of-type {\n",
       "        vertical-align: middle;\n",
       "    }\n",
       "\n",
       "    .dataframe tbody tr th {\n",
       "        vertical-align: top;\n",
       "    }\n",
       "\n",
       "    .dataframe thead th {\n",
       "        text-align: right;\n",
       "    }\n",
       "</style>\n",
       "<table border=\"1\" class=\"dataframe\">\n",
       "  <thead>\n",
       "    <tr style=\"text-align: right;\">\n",
       "      <th></th>\n",
       "      <th>Education</th>\n",
       "      <th>JoiningYear</th>\n",
       "      <th>City</th>\n",
       "      <th>PaymentTier</th>\n",
       "      <th>Age</th>\n",
       "      <th>Gender</th>\n",
       "      <th>EverBenched</th>\n",
       "      <th>ExperienceInCurrentDomain</th>\n",
       "      <th>LeaveOrNot</th>\n",
       "    </tr>\n",
       "  </thead>\n",
       "  <tbody>\n",
       "    <tr>\n",
       "      <th>0</th>\n",
       "      <td>Bachelors</td>\n",
       "      <td>2017</td>\n",
       "      <td>Bangalore</td>\n",
       "      <td>3</td>\n",
       "      <td>34</td>\n",
       "      <td>Male</td>\n",
       "      <td>No</td>\n",
       "      <td>0</td>\n",
       "      <td>0</td>\n",
       "    </tr>\n",
       "    <tr>\n",
       "      <th>1</th>\n",
       "      <td>Bachelors</td>\n",
       "      <td>2013</td>\n",
       "      <td>Pune</td>\n",
       "      <td>1</td>\n",
       "      <td>28</td>\n",
       "      <td>Female</td>\n",
       "      <td>No</td>\n",
       "      <td>3</td>\n",
       "      <td>1</td>\n",
       "    </tr>\n",
       "    <tr>\n",
       "      <th>2</th>\n",
       "      <td>Bachelors</td>\n",
       "      <td>2014</td>\n",
       "      <td>New Delhi</td>\n",
       "      <td>3</td>\n",
       "      <td>38</td>\n",
       "      <td>Female</td>\n",
       "      <td>No</td>\n",
       "      <td>2</td>\n",
       "      <td>0</td>\n",
       "    </tr>\n",
       "    <tr>\n",
       "      <th>3</th>\n",
       "      <td>Masters</td>\n",
       "      <td>2016</td>\n",
       "      <td>Bangalore</td>\n",
       "      <td>3</td>\n",
       "      <td>27</td>\n",
       "      <td>Male</td>\n",
       "      <td>No</td>\n",
       "      <td>5</td>\n",
       "      <td>1</td>\n",
       "    </tr>\n",
       "    <tr>\n",
       "      <th>4</th>\n",
       "      <td>Masters</td>\n",
       "      <td>2017</td>\n",
       "      <td>Pune</td>\n",
       "      <td>3</td>\n",
       "      <td>24</td>\n",
       "      <td>Male</td>\n",
       "      <td>Yes</td>\n",
       "      <td>2</td>\n",
       "      <td>1</td>\n",
       "    </tr>\n",
       "    <tr>\n",
       "      <th>...</th>\n",
       "      <td>...</td>\n",
       "      <td>...</td>\n",
       "      <td>...</td>\n",
       "      <td>...</td>\n",
       "      <td>...</td>\n",
       "      <td>...</td>\n",
       "      <td>...</td>\n",
       "      <td>...</td>\n",
       "      <td>...</td>\n",
       "    </tr>\n",
       "    <tr>\n",
       "      <th>4648</th>\n",
       "      <td>Bachelors</td>\n",
       "      <td>2013</td>\n",
       "      <td>Bangalore</td>\n",
       "      <td>3</td>\n",
       "      <td>26</td>\n",
       "      <td>Female</td>\n",
       "      <td>No</td>\n",
       "      <td>4</td>\n",
       "      <td>0</td>\n",
       "    </tr>\n",
       "    <tr>\n",
       "      <th>4649</th>\n",
       "      <td>Masters</td>\n",
       "      <td>2013</td>\n",
       "      <td>Pune</td>\n",
       "      <td>2</td>\n",
       "      <td>37</td>\n",
       "      <td>Male</td>\n",
       "      <td>No</td>\n",
       "      <td>2</td>\n",
       "      <td>1</td>\n",
       "    </tr>\n",
       "    <tr>\n",
       "      <th>4650</th>\n",
       "      <td>Masters</td>\n",
       "      <td>2018</td>\n",
       "      <td>New Delhi</td>\n",
       "      <td>3</td>\n",
       "      <td>27</td>\n",
       "      <td>Male</td>\n",
       "      <td>No</td>\n",
       "      <td>5</td>\n",
       "      <td>1</td>\n",
       "    </tr>\n",
       "    <tr>\n",
       "      <th>4651</th>\n",
       "      <td>Bachelors</td>\n",
       "      <td>2012</td>\n",
       "      <td>Bangalore</td>\n",
       "      <td>3</td>\n",
       "      <td>30</td>\n",
       "      <td>Male</td>\n",
       "      <td>Yes</td>\n",
       "      <td>2</td>\n",
       "      <td>0</td>\n",
       "    </tr>\n",
       "    <tr>\n",
       "      <th>4652</th>\n",
       "      <td>Bachelors</td>\n",
       "      <td>2015</td>\n",
       "      <td>Bangalore</td>\n",
       "      <td>3</td>\n",
       "      <td>33</td>\n",
       "      <td>Male</td>\n",
       "      <td>Yes</td>\n",
       "      <td>4</td>\n",
       "      <td>0</td>\n",
       "    </tr>\n",
       "  </tbody>\n",
       "</table>\n",
       "<p>4653 rows × 9 columns</p>\n",
       "</div>"
      ],
      "text/plain": [
       "      Education  JoiningYear       City  PaymentTier  Age  Gender EverBenched  \\\n",
       "0     Bachelors         2017  Bangalore            3   34    Male          No   \n",
       "1     Bachelors         2013       Pune            1   28  Female          No   \n",
       "2     Bachelors         2014  New Delhi            3   38  Female          No   \n",
       "3       Masters         2016  Bangalore            3   27    Male          No   \n",
       "4       Masters         2017       Pune            3   24    Male         Yes   \n",
       "...         ...          ...        ...          ...  ...     ...         ...   \n",
       "4648  Bachelors         2013  Bangalore            3   26  Female          No   \n",
       "4649    Masters         2013       Pune            2   37    Male          No   \n",
       "4650    Masters         2018  New Delhi            3   27    Male          No   \n",
       "4651  Bachelors         2012  Bangalore            3   30    Male         Yes   \n",
       "4652  Bachelors         2015  Bangalore            3   33    Male         Yes   \n",
       "\n",
       "      ExperienceInCurrentDomain  LeaveOrNot  \n",
       "0                             0           0  \n",
       "1                             3           1  \n",
       "2                             2           0  \n",
       "3                             5           1  \n",
       "4                             2           1  \n",
       "...                         ...         ...  \n",
       "4648                          4           0  \n",
       "4649                          2           1  \n",
       "4650                          5           1  \n",
       "4651                          2           0  \n",
       "4652                          4           0  \n",
       "\n",
       "[4653 rows x 9 columns]"
      ]
     },
     "execution_count": 76,
     "metadata": {},
     "output_type": "execute_result"
    }
   ],
   "source": [
    "# leyendo el dataset\n",
    "empleados = pd.read_csv('../data/Employee.csv')\n",
    "\n",
    "# chequeando que estén todos los datos\n",
    "empleados"
   ]
  },
  {
   "cell_type": "code",
   "execution_count": 77,
   "metadata": {},
   "outputs": [
    {
     "data": {
      "text/plain": [
       "1889"
      ]
     },
     "execution_count": 77,
     "metadata": {},
     "output_type": "execute_result"
    }
   ],
   "source": [
    "# Chequeando por duplicados\n",
    "duplicados = empleados.duplicated().sum()\n",
    "duplicados"
   ]
  },
  {
   "cell_type": "code",
   "execution_count": 81,
   "metadata": {},
   "outputs": [
    {
     "data": {
      "text/plain": [
       "(2764, 9)"
      ]
     },
     "execution_count": 81,
     "metadata": {},
     "output_type": "execute_result"
    }
   ],
   "source": [
    "# Eliminando duplicados\n",
    "empleados = empleados.drop_duplicates()\n",
    "empleados.shape"
   ]
  },
  {
   "attachments": {},
   "cell_type": "markdown",
   "metadata": {},
   "source": [
    "## 010 - Relación entre educación (Education) y categoría de pago (PaymentTier)\n",
    "> Con este análisis, buscamos investigar si hay alguna relación entre el tipo de educación de un empleado con la categoría de pago en la que se encuentra.\n",
    ">\n",
    "> **Hipótesis**: Mayor educación = Categoría de pago más alta.\n",
    "\n",
    "\n",
    "<table align='center'>\n",
    "<tr>\n",
    "<th> Educación </th>\n",
    "<th> Categoría de pago </th>\n",
    "</tr>\n",
    "<tr>\n",
    "<td>\n",
    "\n",
    "- PhD = 1\n",
    "- Masters = 2\n",
    "- Bachelors = 3\n",
    "\n",
    "PhD > Masters > Bachelors\n",
    "\n",
    "\n",
    "</td>\n",
    "<td>\n",
    "\n",
    "- 1 (Categoría más alta)\n",
    "- 2 \n",
    "- 3 (Categoría más baja)\n",
    "\n",
    "</td>\n",
    "</tr>\n",
    "</table>\n",
    "\n",
    "\n",
    "\n",
    "\n",
    " \n"
   ]
  },
  {
   "cell_type": "code",
   "execution_count": 53,
   "metadata": {},
   "outputs": [
    {
     "data": {
      "text/plain": [
       "array(['Bachelors', 'Masters', 'PHD'], dtype=object)"
      ]
     },
     "execution_count": 53,
     "metadata": {},
     "output_type": "execute_result"
    }
   ],
   "source": [
    "# Tipos de Educacion\n",
    "empleados['Education'].unique()"
   ]
  },
  {
   "cell_type": "code",
   "execution_count": 54,
   "metadata": {},
   "outputs": [
    {
     "data": {
      "text/plain": [
       "array([3, 1, 2], dtype=int64)"
      ]
     },
     "execution_count": 54,
     "metadata": {},
     "output_type": "execute_result"
    }
   ],
   "source": [
    "# Tipos de PaymentTier\n",
    "empleados['PaymentTier'].unique()"
   ]
  },
  {
   "cell_type": "code",
   "execution_count": 55,
   "metadata": {},
   "outputs": [],
   "source": [
    "# Cambiamos los tipos de educación por números para poder aplicar la función de correlación\n",
    "edu_num = {'Bachelors':3,\n",
    "            'Masters':2,\n",
    "            'PHD': 1\n",
    "        }"
   ]
  },
  {
   "cell_type": "code",
   "execution_count": 85,
   "metadata": {},
   "outputs": [
    {
     "data": {
      "text/html": [
       "<div>\n",
       "<style scoped>\n",
       "    .dataframe tbody tr th:only-of-type {\n",
       "        vertical-align: middle;\n",
       "    }\n",
       "\n",
       "    .dataframe tbody tr th {\n",
       "        vertical-align: top;\n",
       "    }\n",
       "\n",
       "    .dataframe thead th {\n",
       "        text-align: right;\n",
       "    }\n",
       "</style>\n",
       "<table border=\"1\" class=\"dataframe\">\n",
       "  <thead>\n",
       "    <tr style=\"text-align: right;\">\n",
       "      <th></th>\n",
       "      <th>Education</th>\n",
       "      <th>JoiningYear</th>\n",
       "      <th>City</th>\n",
       "      <th>PaymentTier</th>\n",
       "      <th>Age</th>\n",
       "      <th>Gender</th>\n",
       "      <th>EverBenched</th>\n",
       "      <th>ExperienceInCurrentDomain</th>\n",
       "      <th>LeaveOrNot</th>\n",
       "      <th>EduNum</th>\n",
       "    </tr>\n",
       "  </thead>\n",
       "  <tbody>\n",
       "    <tr>\n",
       "      <th>0</th>\n",
       "      <td>Bachelors</td>\n",
       "      <td>2017</td>\n",
       "      <td>Bangalore</td>\n",
       "      <td>3</td>\n",
       "      <td>34</td>\n",
       "      <td>Male</td>\n",
       "      <td>No</td>\n",
       "      <td>0</td>\n",
       "      <td>0</td>\n",
       "      <td>3</td>\n",
       "    </tr>\n",
       "    <tr>\n",
       "      <th>1</th>\n",
       "      <td>Bachelors</td>\n",
       "      <td>2013</td>\n",
       "      <td>Pune</td>\n",
       "      <td>1</td>\n",
       "      <td>28</td>\n",
       "      <td>Female</td>\n",
       "      <td>No</td>\n",
       "      <td>3</td>\n",
       "      <td>1</td>\n",
       "      <td>3</td>\n",
       "    </tr>\n",
       "    <tr>\n",
       "      <th>2</th>\n",
       "      <td>Bachelors</td>\n",
       "      <td>2014</td>\n",
       "      <td>New Delhi</td>\n",
       "      <td>3</td>\n",
       "      <td>38</td>\n",
       "      <td>Female</td>\n",
       "      <td>No</td>\n",
       "      <td>2</td>\n",
       "      <td>0</td>\n",
       "      <td>3</td>\n",
       "    </tr>\n",
       "    <tr>\n",
       "      <th>3</th>\n",
       "      <td>Masters</td>\n",
       "      <td>2016</td>\n",
       "      <td>Bangalore</td>\n",
       "      <td>3</td>\n",
       "      <td>27</td>\n",
       "      <td>Male</td>\n",
       "      <td>No</td>\n",
       "      <td>5</td>\n",
       "      <td>1</td>\n",
       "      <td>2</td>\n",
       "    </tr>\n",
       "    <tr>\n",
       "      <th>4</th>\n",
       "      <td>Masters</td>\n",
       "      <td>2017</td>\n",
       "      <td>Pune</td>\n",
       "      <td>3</td>\n",
       "      <td>24</td>\n",
       "      <td>Male</td>\n",
       "      <td>Yes</td>\n",
       "      <td>2</td>\n",
       "      <td>1</td>\n",
       "      <td>2</td>\n",
       "    </tr>\n",
       "    <tr>\n",
       "      <th>...</th>\n",
       "      <td>...</td>\n",
       "      <td>...</td>\n",
       "      <td>...</td>\n",
       "      <td>...</td>\n",
       "      <td>...</td>\n",
       "      <td>...</td>\n",
       "      <td>...</td>\n",
       "      <td>...</td>\n",
       "      <td>...</td>\n",
       "      <td>...</td>\n",
       "    </tr>\n",
       "    <tr>\n",
       "      <th>4645</th>\n",
       "      <td>Masters</td>\n",
       "      <td>2017</td>\n",
       "      <td>Pune</td>\n",
       "      <td>2</td>\n",
       "      <td>31</td>\n",
       "      <td>Female</td>\n",
       "      <td>No</td>\n",
       "      <td>2</td>\n",
       "      <td>0</td>\n",
       "      <td>2</td>\n",
       "    </tr>\n",
       "    <tr>\n",
       "      <th>4647</th>\n",
       "      <td>Bachelors</td>\n",
       "      <td>2016</td>\n",
       "      <td>Pune</td>\n",
       "      <td>3</td>\n",
       "      <td>30</td>\n",
       "      <td>Male</td>\n",
       "      <td>No</td>\n",
       "      <td>2</td>\n",
       "      <td>0</td>\n",
       "      <td>3</td>\n",
       "    </tr>\n",
       "    <tr>\n",
       "      <th>4649</th>\n",
       "      <td>Masters</td>\n",
       "      <td>2013</td>\n",
       "      <td>Pune</td>\n",
       "      <td>2</td>\n",
       "      <td>37</td>\n",
       "      <td>Male</td>\n",
       "      <td>No</td>\n",
       "      <td>2</td>\n",
       "      <td>1</td>\n",
       "      <td>2</td>\n",
       "    </tr>\n",
       "    <tr>\n",
       "      <th>4650</th>\n",
       "      <td>Masters</td>\n",
       "      <td>2018</td>\n",
       "      <td>New Delhi</td>\n",
       "      <td>3</td>\n",
       "      <td>27</td>\n",
       "      <td>Male</td>\n",
       "      <td>No</td>\n",
       "      <td>5</td>\n",
       "      <td>1</td>\n",
       "      <td>2</td>\n",
       "    </tr>\n",
       "    <tr>\n",
       "      <th>4651</th>\n",
       "      <td>Bachelors</td>\n",
       "      <td>2012</td>\n",
       "      <td>Bangalore</td>\n",
       "      <td>3</td>\n",
       "      <td>30</td>\n",
       "      <td>Male</td>\n",
       "      <td>Yes</td>\n",
       "      <td>2</td>\n",
       "      <td>0</td>\n",
       "      <td>3</td>\n",
       "    </tr>\n",
       "  </tbody>\n",
       "</table>\n",
       "<p>2764 rows × 10 columns</p>\n",
       "</div>"
      ],
      "text/plain": [
       "      Education  JoiningYear       City  PaymentTier  Age  Gender EverBenched  \\\n",
       "0     Bachelors         2017  Bangalore            3   34    Male          No   \n",
       "1     Bachelors         2013       Pune            1   28  Female          No   \n",
       "2     Bachelors         2014  New Delhi            3   38  Female          No   \n",
       "3       Masters         2016  Bangalore            3   27    Male          No   \n",
       "4       Masters         2017       Pune            3   24    Male         Yes   \n",
       "...         ...          ...        ...          ...  ...     ...         ...   \n",
       "4645    Masters         2017       Pune            2   31  Female          No   \n",
       "4647  Bachelors         2016       Pune            3   30    Male          No   \n",
       "4649    Masters         2013       Pune            2   37    Male          No   \n",
       "4650    Masters         2018  New Delhi            3   27    Male          No   \n",
       "4651  Bachelors         2012  Bangalore            3   30    Male         Yes   \n",
       "\n",
       "      ExperienceInCurrentDomain  LeaveOrNot  EduNum  \n",
       "0                             0           0       3  \n",
       "1                             3           1       3  \n",
       "2                             2           0       3  \n",
       "3                             5           1       2  \n",
       "4                             2           1       2  \n",
       "...                         ...         ...     ...  \n",
       "4645                          2           0       2  \n",
       "4647                          2           0       3  \n",
       "4649                          2           1       2  \n",
       "4650                          5           1       2  \n",
       "4651                          2           0       3  \n",
       "\n",
       "[2764 rows x 10 columns]"
      ]
     },
     "execution_count": 85,
     "metadata": {},
     "output_type": "execute_result"
    }
   ],
   "source": [
    "empleados.loc[:,'EduNum'] = empleados['Education'].map(edu_num) \n",
    "empleados"
   ]
  },
  {
   "cell_type": "code",
   "execution_count": 96,
   "metadata": {},
   "outputs": [
    {
     "data": {
      "text/html": [
       "<style type=\"text/css\">\n",
       "#T_a3d9d_row0_col5, #T_a3d9d_row1_col5, #T_a3d9d_row2_col5, #T_a3d9d_row3_col5, #T_a3d9d_row4_col5, #T_a3d9d_row5_col5 {\n",
       "  background: blue;\n",
       "}\n",
       "</style>\n",
       "<table id=\"T_a3d9d\">\n",
       "  <thead>\n",
       "    <tr>\n",
       "      <th class=\"blank level0\" >&nbsp;</th>\n",
       "      <th id=\"T_a3d9d_level0_col0\" class=\"col_heading level0 col0\" >JoiningYear</th>\n",
       "      <th id=\"T_a3d9d_level0_col1\" class=\"col_heading level0 col1\" >PaymentTier</th>\n",
       "      <th id=\"T_a3d9d_level0_col2\" class=\"col_heading level0 col2\" >Age</th>\n",
       "      <th id=\"T_a3d9d_level0_col3\" class=\"col_heading level0 col3\" >ExperienceInCurrentDomain</th>\n",
       "      <th id=\"T_a3d9d_level0_col4\" class=\"col_heading level0 col4\" >LeaveOrNot</th>\n",
       "      <th id=\"T_a3d9d_level0_col5\" class=\"col_heading level0 col5\" >EduNum</th>\n",
       "    </tr>\n",
       "  </thead>\n",
       "  <tbody>\n",
       "    <tr>\n",
       "      <th id=\"T_a3d9d_level0_row0\" class=\"row_heading level0 row0\" >JoiningYear</th>\n",
       "      <td id=\"T_a3d9d_row0_col0\" class=\"data row0 col0\" >1.000000</td>\n",
       "      <td id=\"T_a3d9d_row0_col1\" class=\"data row0 col1\" >-0.053823</td>\n",
       "      <td id=\"T_a3d9d_row0_col2\" class=\"data row0 col2\" >0.024445</td>\n",
       "      <td id=\"T_a3d9d_row0_col3\" class=\"data row0 col3\" >-0.031228</td>\n",
       "      <td id=\"T_a3d9d_row0_col4\" class=\"data row0 col4\" >0.150650</td>\n",
       "      <td id=\"T_a3d9d_row0_col5\" class=\"data row0 col5\" >-0.113858</td>\n",
       "    </tr>\n",
       "    <tr>\n",
       "      <th id=\"T_a3d9d_level0_row1\" class=\"row_heading level0 row1\" >PaymentTier</th>\n",
       "      <td id=\"T_a3d9d_row1_col0\" class=\"data row1 col0\" >-0.053823</td>\n",
       "      <td id=\"T_a3d9d_row1_col1\" class=\"data row1 col1\" >1.000000</td>\n",
       "      <td id=\"T_a3d9d_row1_col2\" class=\"data row1 col2\" >0.067514</td>\n",
       "      <td id=\"T_a3d9d_row1_col3\" class=\"data row1 col3\" >-0.004602</td>\n",
       "      <td id=\"T_a3d9d_row1_col4\" class=\"data row1 col4\" >-0.119891</td>\n",
       "      <td id=\"T_a3d9d_row1_col5\" class=\"data row1 col5\" >0.071380</td>\n",
       "    </tr>\n",
       "    <tr>\n",
       "      <th id=\"T_a3d9d_level0_row2\" class=\"row_heading level0 row2\" >Age</th>\n",
       "      <td id=\"T_a3d9d_row2_col0\" class=\"data row2 col0\" >0.024445</td>\n",
       "      <td id=\"T_a3d9d_row2_col1\" class=\"data row2 col1\" >0.067514</td>\n",
       "      <td id=\"T_a3d9d_row2_col2\" class=\"data row2 col2\" >1.000000</td>\n",
       "      <td id=\"T_a3d9d_row2_col3\" class=\"data row2 col3\" >-0.053276</td>\n",
       "      <td id=\"T_a3d9d_row2_col4\" class=\"data row2 col4\" >-0.114943</td>\n",
       "      <td id=\"T_a3d9d_row2_col5\" class=\"data row2 col5\" >0.107324</td>\n",
       "    </tr>\n",
       "    <tr>\n",
       "      <th id=\"T_a3d9d_level0_row3\" class=\"row_heading level0 row3\" >ExperienceInCurrentDomain</th>\n",
       "      <td id=\"T_a3d9d_row3_col0\" class=\"data row3 col0\" >-0.031228</td>\n",
       "      <td id=\"T_a3d9d_row3_col1\" class=\"data row3 col1\" >-0.004602</td>\n",
       "      <td id=\"T_a3d9d_row3_col2\" class=\"data row3 col2\" >-0.053276</td>\n",
       "      <td id=\"T_a3d9d_row3_col3\" class=\"data row3 col3\" >1.000000</td>\n",
       "      <td id=\"T_a3d9d_row3_col4\" class=\"data row3 col4\" >-0.021181</td>\n",
       "      <td id=\"T_a3d9d_row3_col5\" class=\"data row3 col5\" >-0.043842</td>\n",
       "    </tr>\n",
       "    <tr>\n",
       "      <th id=\"T_a3d9d_level0_row4\" class=\"row_heading level0 row4\" >LeaveOrNot</th>\n",
       "      <td id=\"T_a3d9d_row4_col0\" class=\"data row4 col0\" >0.150650</td>\n",
       "      <td id=\"T_a3d9d_row4_col1\" class=\"data row4 col1\" >-0.119891</td>\n",
       "      <td id=\"T_a3d9d_row4_col2\" class=\"data row4 col2\" >-0.114943</td>\n",
       "      <td id=\"T_a3d9d_row4_col3\" class=\"data row4 col3\" >-0.021181</td>\n",
       "      <td id=\"T_a3d9d_row4_col4\" class=\"data row4 col4\" >1.000000</td>\n",
       "      <td id=\"T_a3d9d_row4_col5\" class=\"data row4 col5\" >-0.019661</td>\n",
       "    </tr>\n",
       "    <tr>\n",
       "      <th id=\"T_a3d9d_level0_row5\" class=\"row_heading level0 row5\" >EduNum</th>\n",
       "      <td id=\"T_a3d9d_row5_col0\" class=\"data row5 col0\" >-0.113858</td>\n",
       "      <td id=\"T_a3d9d_row5_col1\" class=\"data row5 col1\" >0.071380</td>\n",
       "      <td id=\"T_a3d9d_row5_col2\" class=\"data row5 col2\" >0.107324</td>\n",
       "      <td id=\"T_a3d9d_row5_col3\" class=\"data row5 col3\" >-0.043842</td>\n",
       "      <td id=\"T_a3d9d_row5_col4\" class=\"data row5 col4\" >-0.019661</td>\n",
       "      <td id=\"T_a3d9d_row5_col5\" class=\"data row5 col5\" >1.000000</td>\n",
       "    </tr>\n",
       "  </tbody>\n",
       "</table>\n"
      ],
      "text/plain": [
       "<pandas.io.formats.style.Styler at 0x13dc1ce8610>"
      ]
     },
     "execution_count": 96,
     "metadata": {},
     "output_type": "execute_result"
    }
   ],
   "source": [
    "empleados_num = empleados.select_dtypes(np.number)\n",
    "corr_matrix = empleados_num.corr()\n",
    "corr_matrix.style.apply(lambda x: ['background: blue' if x.name == 'EduNum' else '' for i in x], \n",
    "               axis=0)"
   ]
  },
  {
   "cell_type": "code",
   "execution_count": 93,
   "metadata": {},
   "outputs": [
    {
     "data": {
      "text/html": [
       "<div>\n",
       "<style scoped>\n",
       "    .dataframe tbody tr th:only-of-type {\n",
       "        vertical-align: middle;\n",
       "    }\n",
       "\n",
       "    .dataframe tbody tr th {\n",
       "        vertical-align: top;\n",
       "    }\n",
       "\n",
       "    .dataframe thead th {\n",
       "        text-align: right;\n",
       "    }\n",
       "</style>\n",
       "<table border=\"1\" class=\"dataframe\">\n",
       "  <thead>\n",
       "    <tr style=\"text-align: right;\">\n",
       "      <th></th>\n",
       "      <th>EduNum</th>\n",
       "      <th>PaymentTier</th>\n",
       "    </tr>\n",
       "  </thead>\n",
       "  <tbody>\n",
       "    <tr>\n",
       "      <th>EduNum</th>\n",
       "      <td>1.00000</td>\n",
       "      <td>0.07138</td>\n",
       "    </tr>\n",
       "    <tr>\n",
       "      <th>PaymentTier</th>\n",
       "      <td>0.07138</td>\n",
       "      <td>1.00000</td>\n",
       "    </tr>\n",
       "  </tbody>\n",
       "</table>\n",
       "</div>"
      ],
      "text/plain": [
       "              EduNum  PaymentTier\n",
       "EduNum       1.00000      0.07138\n",
       "PaymentTier  0.07138      1.00000"
      ]
     },
     "execution_count": 93,
     "metadata": {},
     "output_type": "execute_result"
    }
   ],
   "source": [
    "# Para verlo aislado\n",
    "rel_edu_pay = empleados[['EduNum', 'PaymentTier']].copy()\n",
    "rel_edu_pay.corr()"
   ]
  },
  {
   "attachments": {},
   "cell_type": "markdown",
   "metadata": {},
   "source": [
    "**No se observa correlación.**\n",
    "\n",
    "En la primer tabla podemos ver que el tipo de educación (EduNum) tiene una relación baja con la edad y una relación baja negativa con el año de ingreso; pero no existe relación con la categoría de pago."
   ]
  },
  {
   "attachments": {},
   "cell_type": "markdown",
   "metadata": {},
   "source": [
    "Para visualizarlo mejor, realizaremos un gráfico"
   ]
  },
  {
   "cell_type": "code",
   "execution_count": null,
   "metadata": {},
   "outputs": [],
   "source": [
    "# \n",
    "f = plt.figure(figsize=(19, 15))\n",
    "plt.matshow(empleados_num.corr(), fignum=f.number)\n",
    "plt.xticks(range(empleados_num.select_dtypes(['number']).shape[1]), empleados_num.select_dtypes(['number']).columns, fontsize=14, rotation=45)\n",
    "plt.yticks(range(empleados_num.select_dtypes(['number']).shape[1]), empleados_num.select_dtypes(['number']).columns, fontsize=14)\n",
    "cb = plt.colorbar()\n",
    "cb.ax.tick_params(labelsize=14)\n",
    "plt.title('Correlation Matrix', fontsize=16);"
   ]
  },
  {
   "attachments": {},
   "cell_type": "markdown",
   "metadata": {},
   "source": []
  },
  {
   "cell_type": "code",
   "execution_count": 52,
   "metadata": {},
   "outputs": [
    {
     "name": "stdout",
     "output_type": "stream",
     "text": [
      "Bachelors: 1971\n",
      "Masters: 637\n",
      "PHD: 156\n"
     ]
    }
   ],
   "source": [
    "bachelors = len(empleados[(empleados['Education']=='Bachelors')])\n",
    "masters = len(empleados[(empleados['Education']=='Masters')])\n",
    "phd = len(empleados[(empleados['Education']=='PHD')])\n",
    "\n",
    "print(f'Bachelors: {bachelors}\\nMasters: {masters}\\nPHD: {phd}')"
   ]
  },
  {
   "attachments": {},
   "cell_type": "markdown",
   "metadata": {},
   "source": [
    "Como se puede observar hay un desequilibrio en los tipos de educación, para poder determinar si existe correlación o no primero tednríamos que equilibrarlos.\n",
    "Vamos a ver en porcentajes cada uno de los subgrupos"
   ]
  },
  {
   "cell_type": "code",
   "execution_count": 74,
   "metadata": {},
   "outputs": [
    {
     "data": {
      "text/html": [
       "<div>\n",
       "<style scoped>\n",
       "    .dataframe tbody tr th:only-of-type {\n",
       "        vertical-align: middle;\n",
       "    }\n",
       "\n",
       "    .dataframe tbody tr th {\n",
       "        vertical-align: top;\n",
       "    }\n",
       "\n",
       "    .dataframe thead th {\n",
       "        text-align: right;\n",
       "    }\n",
       "</style>\n",
       "<table border=\"1\" class=\"dataframe\">\n",
       "  <thead>\n",
       "    <tr style=\"text-align: right;\">\n",
       "      <th></th>\n",
       "      <th>Education</th>\n",
       "      <th>PaymentTier</th>\n",
       "      <th>Total</th>\n",
       "      <th>Percentage</th>\n",
       "    </tr>\n",
       "  </thead>\n",
       "  <tbody>\n",
       "    <tr>\n",
       "      <th>0</th>\n",
       "      <td>Bachelors</td>\n",
       "      <td>1</td>\n",
       "      <td>150</td>\n",
       "      <td>7.61%</td>\n",
       "    </tr>\n",
       "    <tr>\n",
       "      <th>1</th>\n",
       "      <td>Bachelors</td>\n",
       "      <td>2</td>\n",
       "      <td>336</td>\n",
       "      <td>17.05%</td>\n",
       "    </tr>\n",
       "    <tr>\n",
       "      <th>2</th>\n",
       "      <td>Bachelors</td>\n",
       "      <td>3</td>\n",
       "      <td>1485</td>\n",
       "      <td>75.34%</td>\n",
       "    </tr>\n",
       "    <tr>\n",
       "      <th>3</th>\n",
       "      <td>Masters</td>\n",
       "      <td>1</td>\n",
       "      <td>54</td>\n",
       "      <td>8.48%</td>\n",
       "    </tr>\n",
       "    <tr>\n",
       "      <th>4</th>\n",
       "      <td>Masters</td>\n",
       "      <td>2</td>\n",
       "      <td>215</td>\n",
       "      <td>33.75%</td>\n",
       "    </tr>\n",
       "    <tr>\n",
       "      <th>5</th>\n",
       "      <td>Masters</td>\n",
       "      <td>3</td>\n",
       "      <td>368</td>\n",
       "      <td>57.77%</td>\n",
       "    </tr>\n",
       "    <tr>\n",
       "      <th>6</th>\n",
       "      <td>PHD</td>\n",
       "      <td>1</td>\n",
       "      <td>14</td>\n",
       "      <td>8.97%</td>\n",
       "    </tr>\n",
       "    <tr>\n",
       "      <th>7</th>\n",
       "      <td>PHD</td>\n",
       "      <td>2</td>\n",
       "      <td>19</td>\n",
       "      <td>12.18%</td>\n",
       "    </tr>\n",
       "    <tr>\n",
       "      <th>8</th>\n",
       "      <td>PHD</td>\n",
       "      <td>3</td>\n",
       "      <td>123</td>\n",
       "      <td>78.85%</td>\n",
       "    </tr>\n",
       "  </tbody>\n",
       "</table>\n",
       "</div>"
      ],
      "text/plain": [
       "   Education  PaymentTier  Total Percentage\n",
       "0  Bachelors            1    150      7.61%\n",
       "1  Bachelors            2    336     17.05%\n",
       "2  Bachelors            3   1485     75.34%\n",
       "3    Masters            1     54      8.48%\n",
       "4    Masters            2    215     33.75%\n",
       "5    Masters            3    368     57.77%\n",
       "6        PHD            1     14      8.97%\n",
       "7        PHD            2     19     12.18%\n",
       "8        PHD            3    123     78.85%"
      ]
     },
     "execution_count": 74,
     "metadata": {},
     "output_type": "execute_result"
    }
   ],
   "source": [
    "df = empleados.groupby(['Education', 'PaymentTier']).size().to_frame('Total').reset_index()\n",
    "education_count = df.groupby('Education')['Total'].sum()\n",
    "\n",
    "df['Percentage'] = df.apply(lambda x: f'{(x[\"Total\"] / education_count[x[\"Education\"]]) * 100:.2f}%', axis=1)\n",
    "\n",
    "df"
   ]
  },
  {
   "cell_type": "code",
   "execution_count": 68,
   "metadata": {},
   "outputs": [
    {
     "ename": "AttributeError",
     "evalue": "'DataFrameGroupBy' object has no attribute 'to_frame'",
     "output_type": "error",
     "traceback": [
      "\u001b[1;31m---------------------------------------------------------------------------\u001b[0m",
      "\u001b[1;31mAttributeError\u001b[0m                            Traceback (most recent call last)",
      "Cell \u001b[1;32mIn[68], line 1\u001b[0m\n\u001b[1;32m----> 1\u001b[0m df \u001b[39m=\u001b[39m empleados\u001b[39m.\u001b[39;49mgroupby([\u001b[39m'\u001b[39;49m\u001b[39mEducation\u001b[39;49m\u001b[39m'\u001b[39;49m, \u001b[39m'\u001b[39;49m\u001b[39mPaymentTier\u001b[39;49m\u001b[39m'\u001b[39;49m])\u001b[39m.\u001b[39;49mto_frame(\u001b[39m'\u001b[39m\u001b[39mCount\u001b[39m\u001b[39m'\u001b[39m)\u001b[39m.\u001b[39mreset_index()\n\u001b[0;32m      3\u001b[0m \u001b[39m# Calculate the count for each education type\u001b[39;00m\n\u001b[0;32m      4\u001b[0m education_counts \u001b[39m=\u001b[39m df\u001b[39m.\u001b[39mgroupby(\u001b[39m'\u001b[39m\u001b[39mEducation\u001b[39m\u001b[39m'\u001b[39m)[\u001b[39m'\u001b[39m\u001b[39mCount\u001b[39m\u001b[39m'\u001b[39m]\u001b[39m.\u001b[39msum()\n",
      "File \u001b[1;32mc:\\Users\\marti\\Desktop\\ISPC-Data-Science\\2023\\ProcesamientosDeDatos\\tp-grupo2\\venv\\Lib\\site-packages\\pandas\\core\\groupby\\groupby.py:952\u001b[0m, in \u001b[0;36mGroupBy.__getattr__\u001b[1;34m(self, attr)\u001b[0m\n\u001b[0;32m    949\u001b[0m \u001b[39mif\u001b[39;00m attr \u001b[39min\u001b[39;00m \u001b[39mself\u001b[39m\u001b[39m.\u001b[39mobj:\n\u001b[0;32m    950\u001b[0m     \u001b[39mreturn\u001b[39;00m \u001b[39mself\u001b[39m[attr]\n\u001b[1;32m--> 952\u001b[0m \u001b[39mraise\u001b[39;00m \u001b[39mAttributeError\u001b[39;00m(\n\u001b[0;32m    953\u001b[0m     \u001b[39mf\u001b[39m\u001b[39m\"\u001b[39m\u001b[39m'\u001b[39m\u001b[39m{\u001b[39;00m\u001b[39mtype\u001b[39m(\u001b[39mself\u001b[39m)\u001b[39m.\u001b[39m\u001b[39m__name__\u001b[39m\u001b[39m}\u001b[39;00m\u001b[39m'\u001b[39m\u001b[39m object has no attribute \u001b[39m\u001b[39m'\u001b[39m\u001b[39m{\u001b[39;00mattr\u001b[39m}\u001b[39;00m\u001b[39m'\u001b[39m\u001b[39m\"\u001b[39m\n\u001b[0;32m    954\u001b[0m )\n",
      "\u001b[1;31mAttributeError\u001b[0m: 'DataFrameGroupBy' object has no attribute 'to_frame'"
     ]
    }
   ],
   "source": [
    "\n",
    "df = empleados.groupby(['Education', 'PaymentTier']).size().to_frame('Count').reset_index()\n",
    "\n",
    "education_counts = df.groupby('Education')['Count'].sum()\n",
    "\n",
    "\n",
    "df['Percentage'] = df.apply(lambda x: f'{(x[\"Count\"] / education_counts[x[\"Education\"]]) * 100:.2f}%', axis=1)\n",
    "\n",
    "styled_df = df.style.background_gradient(cmap='PRGn_r')\n",
    "\n",
    "\n",
    "styled_df"
   ]
  },
  {
   "cell_type": "code",
   "execution_count": null,
   "metadata": {},
   "outputs": [],
   "source": [
    "df = empleados.groupby(['Education','PaymentTier'])['Education'].value_counts().to_frame().reset_index()\n",
    "df.loc[:, 'Percentage'] = df.apply(lambda x: f'{x[\"count\"]/x[\"Education\"].value_counts()}%')\n",
    "df = df.style.background_gradient(cmap='PRGn_r')\n",
    "df"
   ]
  },
  {
   "cell_type": "code",
   "execution_count": 56,
   "metadata": {},
   "outputs": [
    {
     "data": {
      "text/plain": [
       "Index(['count'], dtype='object')"
      ]
     },
     "execution_count": 56,
     "metadata": {},
     "output_type": "execute_result"
    }
   ],
   "source": [
    "df.columns"
   ]
  },
  {
   "cell_type": "code",
   "execution_count": 32,
   "metadata": {},
   "outputs": [
    {
     "data": {
      "text/plain": [
       "PaymentTier  Education\n",
       "1            Bachelors     173\n",
       "             Masters        56\n",
       "             PHD            14\n",
       "2            Bachelors     543\n",
       "             Masters       355\n",
       "             PHD            20\n",
       "3            Bachelors    2885\n",
       "             Masters       462\n",
       "             PHD           145\n",
       "Name: count, dtype: int64"
      ]
     },
     "execution_count": 32,
     "metadata": {},
     "output_type": "execute_result"
    }
   ],
   "source": [
    "bachelors = empleados.groupby('PaymentTier')['Education'].value_counts()\n",
    "bachelors"
   ]
  },
  {
   "cell_type": "code",
   "execution_count": 33,
   "metadata": {},
   "outputs": [
    {
     "data": {
      "text/plain": [
       "(9,)"
      ]
     },
     "execution_count": 33,
     "metadata": {},
     "output_type": "execute_result"
    }
   ],
   "source": []
  },
  {
   "cell_type": "code",
   "execution_count": null,
   "metadata": {},
   "outputs": [],
   "source": [
    "df['Percentage'] = df.apply(lambda x: f'{x[\"Education\"]/}%')"
   ]
  },
  {
   "cell_type": "code",
   "execution_count": 38,
   "metadata": {},
   "outputs": [
    {
     "ename": "ValueError",
     "evalue": "could not convert string to float: 'Bachelors'",
     "output_type": "error",
     "traceback": [
      "\u001b[1;31m---------------------------------------------------------------------------\u001b[0m",
      "\u001b[1;31mValueError\u001b[0m                                Traceback (most recent call last)",
      "Cell \u001b[1;32mIn[38], line 4\u001b[0m\n\u001b[0;32m      2\u001b[0m fig, ax \u001b[39m=\u001b[39m plt\u001b[39m.\u001b[39msubplots(figsize\u001b[39m=\u001b[39m(\u001b[39m20\u001b[39m,\u001b[39m10\u001b[39m))         \n\u001b[0;32m      3\u001b[0m \u001b[39m# Imbalanced DataFrame Correlation\u001b[39;00m\n\u001b[1;32m----> 4\u001b[0m corr \u001b[39m=\u001b[39m empleados\u001b[39m.\u001b[39;49mcorr()\n\u001b[0;32m      5\u001b[0m sns\u001b[39m.\u001b[39mheatmap(corr, cmap\u001b[39m=\u001b[39m\u001b[39m'\u001b[39m\u001b[39mYlGnBu\u001b[39m\u001b[39m'\u001b[39m, annot_kws\u001b[39m=\u001b[39m{\u001b[39m'\u001b[39m\u001b[39msize\u001b[39m\u001b[39m'\u001b[39m:\u001b[39m30\u001b[39m}, ax\u001b[39m=\u001b[39max)\n\u001b[0;32m      6\u001b[0m ax\u001b[39m.\u001b[39mset_title(\u001b[39m\"\u001b[39m\u001b[39mImbalanced Correlation Matrix\u001b[39m\u001b[39m\"\u001b[39m, fontsize\u001b[39m=\u001b[39m\u001b[39m14\u001b[39m)\n",
      "File \u001b[1;32mc:\\Users\\marti\\Desktop\\ISPC-Data-Science\\2023\\ProcesamientosDeDatos\\tp-grupo2\\venv\\Lib\\site-packages\\pandas\\core\\frame.py:10054\u001b[0m, in \u001b[0;36mDataFrame.corr\u001b[1;34m(self, method, min_periods, numeric_only)\u001b[0m\n\u001b[0;32m  10052\u001b[0m cols \u001b[39m=\u001b[39m data\u001b[39m.\u001b[39mcolumns\n\u001b[0;32m  10053\u001b[0m idx \u001b[39m=\u001b[39m cols\u001b[39m.\u001b[39mcopy()\n\u001b[1;32m> 10054\u001b[0m mat \u001b[39m=\u001b[39m data\u001b[39m.\u001b[39;49mto_numpy(dtype\u001b[39m=\u001b[39;49m\u001b[39mfloat\u001b[39;49m, na_value\u001b[39m=\u001b[39;49mnp\u001b[39m.\u001b[39;49mnan, copy\u001b[39m=\u001b[39;49m\u001b[39mFalse\u001b[39;49;00m)\n\u001b[0;32m  10056\u001b[0m \u001b[39mif\u001b[39;00m method \u001b[39m==\u001b[39m \u001b[39m\"\u001b[39m\u001b[39mpearson\u001b[39m\u001b[39m\"\u001b[39m:\n\u001b[0;32m  10057\u001b[0m     correl \u001b[39m=\u001b[39m libalgos\u001b[39m.\u001b[39mnancorr(mat, minp\u001b[39m=\u001b[39mmin_periods)\n",
      "File \u001b[1;32mc:\\Users\\marti\\Desktop\\ISPC-Data-Science\\2023\\ProcesamientosDeDatos\\tp-grupo2\\venv\\Lib\\site-packages\\pandas\\core\\frame.py:1838\u001b[0m, in \u001b[0;36mDataFrame.to_numpy\u001b[1;34m(self, dtype, copy, na_value)\u001b[0m\n\u001b[0;32m   1836\u001b[0m \u001b[39mif\u001b[39;00m dtype \u001b[39mis\u001b[39;00m \u001b[39mnot\u001b[39;00m \u001b[39mNone\u001b[39;00m:\n\u001b[0;32m   1837\u001b[0m     dtype \u001b[39m=\u001b[39m np\u001b[39m.\u001b[39mdtype(dtype)\n\u001b[1;32m-> 1838\u001b[0m result \u001b[39m=\u001b[39m \u001b[39mself\u001b[39;49m\u001b[39m.\u001b[39;49m_mgr\u001b[39m.\u001b[39;49mas_array(dtype\u001b[39m=\u001b[39;49mdtype, copy\u001b[39m=\u001b[39;49mcopy, na_value\u001b[39m=\u001b[39;49mna_value)\n\u001b[0;32m   1839\u001b[0m \u001b[39mif\u001b[39;00m result\u001b[39m.\u001b[39mdtype \u001b[39mis\u001b[39;00m \u001b[39mnot\u001b[39;00m dtype:\n\u001b[0;32m   1840\u001b[0m     result \u001b[39m=\u001b[39m np\u001b[39m.\u001b[39marray(result, dtype\u001b[39m=\u001b[39mdtype, copy\u001b[39m=\u001b[39m\u001b[39mFalse\u001b[39;00m)\n",
      "File \u001b[1;32mc:\\Users\\marti\\Desktop\\ISPC-Data-Science\\2023\\ProcesamientosDeDatos\\tp-grupo2\\venv\\Lib\\site-packages\\pandas\\core\\internals\\managers.py:1732\u001b[0m, in \u001b[0;36mBlockManager.as_array\u001b[1;34m(self, dtype, copy, na_value)\u001b[0m\n\u001b[0;32m   1730\u001b[0m         arr\u001b[39m.\u001b[39mflags\u001b[39m.\u001b[39mwriteable \u001b[39m=\u001b[39m \u001b[39mFalse\u001b[39;00m\n\u001b[0;32m   1731\u001b[0m \u001b[39melse\u001b[39;00m:\n\u001b[1;32m-> 1732\u001b[0m     arr \u001b[39m=\u001b[39m \u001b[39mself\u001b[39;49m\u001b[39m.\u001b[39;49m_interleave(dtype\u001b[39m=\u001b[39;49mdtype, na_value\u001b[39m=\u001b[39;49mna_value)\n\u001b[0;32m   1733\u001b[0m     \u001b[39m# The underlying data was copied within _interleave, so no need\u001b[39;00m\n\u001b[0;32m   1734\u001b[0m     \u001b[39m# to further copy if copy=True or setting na_value\u001b[39;00m\n\u001b[0;32m   1736\u001b[0m \u001b[39mif\u001b[39;00m na_value \u001b[39mis\u001b[39;00m \u001b[39mnot\u001b[39;00m lib\u001b[39m.\u001b[39mno_default:\n",
      "File \u001b[1;32mc:\\Users\\marti\\Desktop\\ISPC-Data-Science\\2023\\ProcesamientosDeDatos\\tp-grupo2\\venv\\Lib\\site-packages\\pandas\\core\\internals\\managers.py:1794\u001b[0m, in \u001b[0;36mBlockManager._interleave\u001b[1;34m(self, dtype, na_value)\u001b[0m\n\u001b[0;32m   1792\u001b[0m     \u001b[39melse\u001b[39;00m:\n\u001b[0;32m   1793\u001b[0m         arr \u001b[39m=\u001b[39m blk\u001b[39m.\u001b[39mget_values(dtype)\n\u001b[1;32m-> 1794\u001b[0m     result[rl\u001b[39m.\u001b[39;49mindexer] \u001b[39m=\u001b[39m arr\n\u001b[0;32m   1795\u001b[0m     itemmask[rl\u001b[39m.\u001b[39mindexer] \u001b[39m=\u001b[39m \u001b[39m1\u001b[39m\n\u001b[0;32m   1797\u001b[0m \u001b[39mif\u001b[39;00m \u001b[39mnot\u001b[39;00m itemmask\u001b[39m.\u001b[39mall():\n",
      "\u001b[1;31mValueError\u001b[0m: could not convert string to float: 'Bachelors'"
     ]
    },
    {
     "data": {
      "image/png": "[encoded data removed]",
      "text/plain": [
       "<Figure size 2000x1000 with 1 Axes>"
      ]
     },
     "metadata": {},
     "output_type": "display_data"
    }
   ],
   "source": [
    "# Sample figsize in inches\n",
    "fig, ax = plt.subplots(figsize=(20,10))         \n",
    "# Imbalanced DataFrame Correlation\n",
    "corr = empleados.corr()\n",
    "sns.heatmap(corr, cmap='YlGnBu', annot_kws={'size':30}, ax=ax)\n",
    "ax.set_title(\"Imbalanced Correlation Matrix\", fontsize=14)\n",
    "plt.show()"
   ]
  },
  {
   "cell_type": "code",
   "execution_count": null,
   "metadata": {},
   "outputs": [],
   "source": []
  }
 ],
 "metadata": {
  "kernelspec": {
   "display_name": "venv",
   "language": "python",
   "name": "python3"
  },
  "language_info": {
   "codemirror_mode": {
    "name": "ipython",
    "version": 3
   },
   "file_extension": ".py",
   "mimetype": "text/x-python",
   "name": "python",
   "nbconvert_exporter": "python",
   "pygments_lexer": "ipython3",
   "version": "3.11.2"
  },
  "orig_nbformat": 4
 },
 "nbformat": 4,
 "nbformat_minor": 2
}
